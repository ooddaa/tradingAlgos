{
 "cells": [
  {
   "cell_type": "code",
   "execution_count": 9,
   "metadata": {},
   "outputs": [
    {
     "name": "stdout",
     "output_type": "stream",
     "text": [
      "CPU times: user 615 ms, sys: 169 ms, total: 784 ms\n",
      "Wall time: 785 ms\n",
      "CPU times: user 12 ms, sys: 3.92 ms, total: 15.9 ms\n",
      "Wall time: 15.6 ms\n"
     ]
    }
   ],
   "source": [
    "import numpy as np\n",
    "my_list = list(range(10**6))\n",
    "my_arr = np.arange(10**6)\n",
    "\n",
    "%time for _ in range(10): x = [el * 2 for el in my_list]\n",
    "# CPU times: user 615 ms, sys: 169 ms, total: 784 ms\n",
    "# Wall time: 785 ms # 50 times slower!!\n",
    "\n",
    "%time for _ in range(10): y = my_arr * 2\n",
    "# CPU times: user 12 ms, sys: 3.92 ms, total: 15.9 ms\n",
    "# Wall time: 15.6 ms"
   ]
  },
  {
   "cell_type": "code",
   "execution_count": null,
   "metadata": {},
   "outputs": [],
   "source": [
    "# https://numpy.org/doc/stable/reference/generated/numpy.arange.html\n",
    "np.arange(3)\n",
    "# array([0, 1, 2])\n",
    "np.arange(3.0)\n",
    "# array([ 0.,  1.,  2.])\n",
    "np.arange(3,7)\n",
    "# array([3, 4, 5, 6])\n",
    "np.arange(3,7,2)\n",
    "# array([3, 5])"
   ]
  },
  {
   "cell_type": "code",
   "execution_count": 26,
   "metadata": {},
   "outputs": [
    {
     "data": {
      "image/png": "[encoded data removed]",
      "text/plain": [
       "<Figure size 432x288 with 1 Axes>"
      ]
     },
     "metadata": {
      "needs_background": "light"
     },
     "output_type": "display_data"
    }
   ],
   "source": [
    "# https://numpy.org/doc/stable/reference/generated/numpy.linspace.html\n",
    "import matplotlib.pyplot as plt\n",
    "N = 8\n",
    "y = np.zeros(N)\n",
    "x1 = np.linspace(0, 10, N, endpoint=True)\n",
    "x2 = np.linspace(0, 10, N, endpoint=False)\n",
    "x3 = np.linspace(0, 10, 7, endpoint=True)\n",
    "x4 = np.linspace(0, 10, 6, endpoint=True)\n",
    "x5 = np.linspace(0, 10, 5, endpoint=True)\n",
    "plt.plot(x1, y, 'o')\n",
    "# [<matplotlib.lines.Line2D object at 0x...>]\n",
    "plt.plot(x2, y - 0.2, 'o')\n",
    "# [<matplotlib.lines.Line2D object at 0x...>]\n",
    "plt.plot(x3, np.zeros(7) + 0.2, 'o')\n",
    "plt.plot(x4, np.zeros(6) + 0.4, 'o')\n",
    "plt.plot(x5, np.zeros(5) + 0.6, 'o')\n",
    "\n",
    "plt.ylim([-0.5, 1])\n",
    "(-0.5, 1)\n",
    "plt.show()"
   ]
  },
  {
   "cell_type": "code",
   "execution_count": null,
   "metadata": {},
   "outputs": [],
   "source": [
    "# https://numpy.org/doc/stable/reference/generated/numpy.meshgrid.html\n",
    "nx, ny = (3, 2)\n",
    "x = np.linspace(0, 1, nx)\n",
    "y = np.linspace(0, 1, ny)\n",
    "xv, yv = np.meshgrid(x, y)\n",
    "# xv\n",
    "# array([[0. , 0.5, 1. ],\n",
    "#        [0. , 0.5, 1. ]])\n",
    "# yv\n",
    "# array([[0.,  0.,  0.],\n",
    "#        [1.,  1.,  1.]])\n",
    "xv, yv = np.meshgrid(x, y, sparse=True)  # make sparse output arrays\n",
    "# xv\n",
    "# array([[0. ,  0.5,  1. ]])\n",
    "# yv\n",
    "# array([[0.],\n",
    "#        [1.]])"
   ]
  },
  {
   "cell_type": "code",
   "execution_count": 53,
   "metadata": {},
   "outputs": [
    {
     "data": {
      "text/plain": [
       "array([[ 0.17384275, -2.43077628, -1.17594555, -1.32426855],\n",
       "       [-0.48462099, -0.04653414, -1.16774818,  0.2021354 ],\n",
       "       [-0.20631207,  0.6159593 , -0.21062233,  0.77759426]])"
      ]
     },
     "execution_count": 53,
     "metadata": {},
     "output_type": "execute_result"
    }
   ],
   "source": [
    "# https://docs.scipy.org/doc/numpy-1.15.1/reference/generated/numpy.random.randn.html\n",
    "# filled with random floats sampled from a univariate “normal” (Gaussian) \n",
    "# distribution of mean 0 and variance 1\n",
    "np.random.randn() \n",
    "np.random.randn(3, 4)"
   ]
  },
  {
   "cell_type": "code",
   "execution_count": 62,
   "metadata": {},
   "outputs": [
    {
     "data": {
      "text/plain": [
       "array([[[1],\n",
       "        [2],\n",
       "        [3]],\n",
       "\n",
       "       [[4],\n",
       "        [5],\n",
       "        [6]],\n",
       "\n",
       "       [[7],\n",
       "        [8],\n",
       "        [9]]])"
      ]
     },
     "execution_count": 62,
     "metadata": {},
     "output_type": "execute_result"
    }
   ],
   "source": [
    "np.arange(1,10).reshape(3,3,1)"
   ]
  },
  {
   "cell_type": "code",
   "execution_count": 76,
   "metadata": {},
   "outputs": [
    {
     "data": {
      "text/plain": [
       "array([ True,  True,  True])"
      ]
     },
     "execution_count": 76,
     "metadata": {},
     "output_type": "execute_result"
    }
   ],
   "source": [
    "np.zeros(3)\n",
    "np.ones(3)\n",
    "np.full(3, 666)\n",
    "np.empty(5) # array length 5 filled with some garbage \n",
    "np.ones(3) == np.full(3, 1) # array([ True,  True,  True])"
   ]
  },
  {
   "cell_type": "code",
   "execution_count": 89,
   "metadata": {},
   "outputs": [
    {
     "name": "stdout",
     "output_type": "stream",
     "text": [
      "[ 0.94812699 -1.55336123 -0.87332479] [ 0 -1  0]\n"
     ]
    }
   ],
   "source": [
    "# type casting\n",
    "arr = np.arange(1,4) # dtype('int64')\n",
    "arr2 = arr.astype(np.float64) # dtype('float64')\n",
    "arr3 = np.random.randn(3)\n",
    "arr4 = arr3.astype(arr.dtype) # 'i8' == int64\n",
    "print(arr3, arr4)\n",
    "arr5 = arr3.astype(np.string_)\n"
   ]
  },
  {
   "cell_type": "code",
   "execution_count": 105,
   "metadata": {},
   "outputs": [
    {
     "data": {
      "text/plain": [
       "array([  1, 666, 666,   4,   5])"
      ]
     },
     "execution_count": 105,
     "metadata": {},
     "output_type": "execute_result"
    }
   ],
   "source": [
    "# p93 Operations between differently sized arrays is called broadcasting\n",
    "arr = np.array([1,2,3,4,5])\n",
    "arr_slice = arr[1:3] # view, not a copy\n",
    "arr_slice[:] = 666\n",
    "\n",
    "# copy explicitly\n",
    "arr_copy = arr[3:].copy()\n",
    "arr_copy[:] = 123 # does not affect arr\n"
   ]
  },
  {
   "cell_type": "code",
   "execution_count": 119,
   "metadata": {},
   "outputs": [
    {
     "data": {
      "text/plain": [
       "4"
      ]
     },
     "execution_count": 119,
     "metadata": {},
     "output_type": "execute_result"
    }
   ],
   "source": [
    "# indexing\n",
    "arr = np.arange(0,9).reshape(3,3)\n",
    "arr[0,:] # array([0, 1, 2])\n",
    "arr[:1,:] # array([[0, 1, 2]])\n",
    "arr[-1:, -1: ] # array([[8]])\n",
    "arr[2, 2:] # array([8])\n",
    "arr[2,2] # 8\n",
    "arr[1,1] # 4"
   ]
  },
  {
   "cell_type": "code",
   "execution_count": 121,
   "metadata": {},
   "outputs": [
    {
     "name": "stdout",
     "output_type": "stream",
     "text": [
      "[[-0.44475649 -0.8861556   0.53718283  1.44623095]\n",
      " [-0.0635274   1.63762883  1.69676357  0.20053628]\n",
      " [-0.70827889  1.01380205 -1.92690764 -0.3653847 ]\n",
      " [ 0.56513778 -0.58754276 -1.40376641 -1.21574118]\n",
      " [-0.05495639 -0.04996264  0.73681524  0.04378662]\n",
      " [ 0.2799306   0.70897848  1.10241077 -0.44771121]\n",
      " [-3.25839962  0.49951981 -1.21249134  1.10635371]]\n"
     ]
    },
    {
     "data": {
      "text/plain": [
       "array([[-0.44475649, -0.8861556 ,  0.53718283,  1.44623095],\n",
       "       [ 0.56513778, -0.58754276, -1.40376641, -1.21574118]])"
      ]
     },
     "execution_count": 121,
     "metadata": {},
     "output_type": "execute_result"
    }
   ],
   "source": [
    "# boolean indexing\n",
    "names = np.array(['Bob', 'Joe', 'Will', 'Bob', 'Will', 'Joe', 'Joe'])\n",
    "data = np.random.randn(7,4)\n",
    "print(data)\n",
    "data[names == 'Bob', 1]"
   ]
  }
 ],
 "metadata": {
  "kernelspec": {
   "display_name": "Python 3",
   "language": "python",
   "name": "python3"
  },
  "language_info": {
   "codemirror_mode": {
    "name": "ipython",
    "version": 3
   },
   "file_extension": ".py",
   "mimetype": "text/x-python",
   "name": "python",
   "nbconvert_exporter": "python",
   "pygments_lexer": "ipython3",
   "version": "3.6.4"
  }
 },
 "nbformat": 4,
 "nbformat_minor": 4
}
