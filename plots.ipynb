{
 "cells": [
  {
   "cell_type": "code",
   "execution_count": 16,
   "metadata": {},
   "outputs": [
    {
     "data": {
      "text/plain": [
       "<matplotlib.legend.Legend at 0x13b1c086d88>"
      ]
     },
     "execution_count": 16,
     "metadata": {},
     "output_type": "execute_result"
    },
    {
     "data": {
      "image/png": "[encoded data removed]",
      "text/plain": [
       "<Figure size 432x288 with 1 Axes>"
      ]
     },
     "metadata": {
      "needs_background": "light"
     },
     "output_type": "display_data"
    }
   ],
   "source": [
    "# https://matplotlib.org/3.3.3/tutorials/introductory/usage.html#sphx-glr-tutorials-introductory-usage-py\n",
    "import matplotlib.pyplot as plt\n",
    "\n",
    "x = np.linspace(0, 2, 100)\n",
    "\n",
    "# setup the figure and axes\n",
    "fig, ax = plt.subplots()\n",
    "ax.plot(x, x, label='linear') # linear same as ax.plot(x)\n",
    "ax.plot(x, x**2, label='quadratic') # quadratic same as ax.plot(x**2)\n",
    "ax.plot(x, x**3, label='cubic') # cubic\n",
    "ax.plot(x, x**4, label='quatric') # go on\n",
    "ax.set_xlabel('x label')\n",
    "ax.set_ylabel('y label')\n",
    "ax.set_title('nice plot')\n",
    "ax.legend()"
   ]
  },
  {
   "cell_type": "code",
   "execution_count": 48,
   "metadata": {},
   "outputs": [
    {
     "data": {
      "text/plain": [
       "[<mpl_toolkits.mplot3d.art3d.Line3D at 0x13b1eaa5608>]"
      ]
     },
     "execution_count": 48,
     "metadata": {},
     "output_type": "execute_result"
    }
   ],
   "source": [
    "# https://matplotlib.org/3.3.3/tutorials/toolkits/mplot3d.html#getting-started\n",
    "import matplotlib.pyplot as plt\n",
    "\n",
    "x = np.arange(0, 100, 2)\n",
    "y = x**2\n",
    "z = x**3\n",
    "\n",
    "# create Figure and axes\n",
    "fig = plt.figure()\n",
    "ax = fig.add_subplot(111, projection='3d')\n",
    "ax.set_xlabel('x label')\n",
    "ax.set_ylabel('y label')\n",
    "ax.set_zlabel('z label')\n",
    "\n",
    "ax.plot(x, y, z)\n"
   ]
  },
  {
   "cell_type": "code",
   "execution_count": 93,
   "metadata": {},
   "outputs": [
    {
     "data": {
      "text/plain": [
       "<mpl_toolkits.mplot3d.art3d.Poly3DCollection at 0x13b28ab1688>"
      ]
     },
     "execution_count": 93,
     "metadata": {},
     "output_type": "execute_result"
    }
   ],
   "source": [
    "# https://matplotlib.org/3.3.3/tutorials/toolkits/mplot3d.html#getting-started\n",
    "%matplotlib qt\n",
    "import matplotlib.pyplot as plt\n",
    "import numpy as np\n",
    "\n",
    "# data\n",
    "_x = np.arange(0, 3, 1) # 1D array([0, 1, 2])\n",
    "_y = np.arange(0, 4, 1) # 1D array([0, 1, 2, 3])\n",
    "_xx, _yy = np.meshgrid(_x, _y) # 2D surface (nrows, ncols)\n",
    "# _xx\n",
    "# array([[0, 1, 2],\n",
    "#        [0, 1, 2],\n",
    "#        [0, 1, 2],\n",
    "#        [0, 1, 2]])\n",
    "# _yy\n",
    "# array([[0, 0, 0],\n",
    "#        [1, 1, 1],\n",
    "#        [2, 2, 2],\n",
    "#        [3, 3, 3]])\n",
    "x, y = _xx.ravel(), _yy.ravel() # flatten array([0, 1, 2, 0, 1, 2, 0, 1, 2, 0, 1, 2]),  array([0, 0, 0, 1, 1, 1, 2, 2, 2, 3, 3, 3])\n",
    "\n",
    "height = x + y # array([0, 1, 2, 1, 2, 3, 2, 3, 4, 3, 4, 5]) # height of the bar - strikes for instance \n",
    "# height = [\n",
    "#     0, 1, 1, \n",
    "#     1, 2, 1, \n",
    "#     2, 3, 1, \n",
    "#     3, 4, 1\n",
    "# ]\n",
    "# z is confusing name here.\n",
    "# it controls where bars (cubes) land. We want a barchart, so it lands on the bottom\n",
    "z = np.zeros_like(height) # array([0, 0, 0, 0, 0, 0, 0, 0, 0, 0, 0, 0]) \n",
    "# z = [\n",
    "#     0, 0, 3, \n",
    "#     0, 0, 2, \n",
    "#     0, 0, 1, \n",
    "#     0, 0, 0\n",
    "# ]\n",
    "# z = [\n",
    "#     0, 1, 5, \n",
    "#     1, 2, 4, \n",
    "#     2, 3, 3, \n",
    "#     3, 4, 2\n",
    "# ]\n",
    "width = depth = 1\n",
    "\n",
    "# # create Figure and axes\n",
    "fig = plt.figure()\n",
    "ax = fig.add_subplot(111, projection='3d')\n",
    "ax.set_xlabel('x label')\n",
    "ax.set_ylabel('y label')\n",
    "ax.set_zlabel('z label')\n",
    "\n",
    "ax.bar3d(x, y, z, width, depth, height, shade=True)"
   ]
  },
  {
   "cell_type": "code",
   "execution_count": 119,
   "metadata": {},
   "outputs": [
    {
     "data": {
      "text/plain": [
       "<mpl_toolkits.mplot3d.art3d.Poly3DCollection at 0x13b28e28088>"
      ]
     },
     "execution_count": 119,
     "metadata": {},
     "output_type": "execute_result"
    }
   ],
   "source": [
    "%matplotlib qt\n",
    "import matplotlib.pyplot as plt\n",
    "import numpy as np\n",
    "\n",
    "def my_bar3d_plotter(ax, x, y, z, width=1, depth=1, labels=['x', 'y', 'z']):\n",
    "    bottom = np.zeros_like(z)\n",
    "    hight = z\n",
    "    ax.set_xlabel(labels[0])\n",
    "    ax.set_ylabel(labels[1])\n",
    "    ax.set_zlabel(labels[2])\n",
    "    out = ax.bar3d(x, y, bottom, width, depth, hight)\n",
    "    return out\n",
    "\n",
    "fig = plt.figure()\n",
    "ax = fig.add_subplot(111, projection='3d')\n",
    "\n",
    "\n",
    "x = [0, 1, 2, 0, 1, 2, 0, 1, 2]\n",
    "y = [0, 0, 0, 1, 1, 1, 2, 2, 2]\n",
    "z = [0, 1, 2, 1, 2, 3, 2, 3, 1]\n",
    "my_bar3d_plotter(ax, x, y, z, labels=['lolx', 'bary', 'zeddy'])"
   ]
  }
 ],
 "metadata": {
  "kernelspec": {
   "display_name": "Python 3",
   "language": "python",
   "name": "python3"
  },
  "language_info": {
   "codemirror_mode": {
    "name": "ipython",
    "version": 3
   },
   "file_extension": ".py",
   "mimetype": "text/x-python",
   "name": "python",
   "nbconvert_exporter": "python",
   "pygments_lexer": "ipython3",
   "version": "3.7.4"
  }
 },
 "nbformat": 4,
 "nbformat_minor": 4
}
