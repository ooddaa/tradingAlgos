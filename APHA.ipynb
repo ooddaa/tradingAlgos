{
 "cells": [
  {
   "cell_type": "code",
   "execution_count": 1,
   "metadata": {},
   "outputs": [
    {
     "data": {
      "text/plain": [
       "{'LondonTime': datetime.datetime(2021, 2, 25, 14, 53, 18, 932061),\n",
       " 'timestamp': 1614264798.932061,\n",
       " 'ask': 20.03,\n",
       " 'bid': 20.01,\n",
       " 'mid': 20.020000000000003}"
      ]
     },
     "execution_count": 1,
     "metadata": {},
     "output_type": "execute_result"
    }
   ],
   "source": [
    "# https://pypi.org/project/yfinance/\n",
    "import yfinance as yf\n",
    "import pandas as pd\n",
    "import numpy as np\n",
    "\n",
    "apha = yf.Ticker('APHA')\n",
    "info = apha.info\n",
    "# info\n",
    "# shares\n",
    "\n",
    "# https://finance.yahoo.com/quote/PLTR/key-statistics?p=PLTR\n",
    "# sharesOutstanding - Shares outstanding is taken from the most recently filed quarterly or annual report\n",
    "# impliedSharesOutstanding = info['impliedSharesOutstanding']\n",
    "\n",
    "# sharesPercentSharesOut = info['sharesPercentSharesOut']\n",
    "\n",
    "# volume = info['volume']\n",
    "# regularMarketVolume = info['regularMarketVolume']\n",
    "# averageVolume = info['averageVolume']\n",
    "# floatShares - the number of shares available for trading. \n",
    "\n",
    "# sharesShort = info['sharesShort']\n",
    "# sharesShortPreviousMonthDate\n",
    "# sharesShortPriorMonth\n",
    "# dateShortInterest\n",
    "\n",
    "# shortRatio # ??\n",
    "# shortPercentOfFloat\n",
    "\n",
    "# heldPercentInstitutions = info['heldPercentInstitutions']\n",
    "# heldPercentInsiders = info['heldPercentInsiders']\n",
    "\n",
    "# pltr.info\n",
    "# parse contractSymbol date\n",
    "\n",
    "def parse_contractSymbol(cs, rdate=False):\n",
    "    #     cs = 'PLTR210108C00025000'\n",
    "    ticker = cs [:-15]\n",
    "    year = cs[-15:-13]\n",
    "    month = cs[-13:-11]\n",
    "    day = cs[-11:-9]\n",
    "    instr_type = cs[-9]\n",
    "    strike = float(cs[-8:])/1000\n",
    "    \n",
    "    if rdate == True:\n",
    "        return date(2000+int(year), int(month), int(day))\n",
    "    \n",
    "    return (ticker, year, month, day, instr_type, strike)\n",
    "\n",
    "from datetime import datetime\n",
    "# datetime.datetime.now()\n",
    "# current prices\n",
    "now = datetime.now()\n",
    "prices = {\n",
    "    'LondonTime': now,\n",
    "    'timestamp': datetime.timestamp(now),\n",
    "    'ask': info['ask'],\n",
    "    'bid': info['bid'],\n",
    "    'mid': (info['ask'] + info['bid'])/2 \n",
    "}\n",
    "prices"
   ]
  },
  {
   "cell_type": "code",
   "execution_count": 16,
   "metadata": {},
   "outputs": [],
   "source": [
    "data = apha.history(period=\"max\")"
   ]
  },
  {
   "cell_type": "code",
   "execution_count": null,
   "metadata": {},
   "outputs": [],
   "source": []
  },
  {
   "cell_type": "code",
   "execution_count": 18,
   "metadata": {
    "collapsed": true
   },
   "outputs": [
    {
     "data": {
      "text/plain": [
       "Open                  5.370\n",
       "High                  5.525\n",
       "Low                   5.170\n",
       "Close                 5.390\n",
       "Volume          4532100.000\n",
       "Dividends             0.000\n",
       "Stock Splits          0.000\n",
       "Name: 2019-10-07 00:00:00, dtype: float64"
      ]
     },
     "execution_count": 18,
     "metadata": {},
     "output_type": "execute_result"
    }
   ],
   "source": [
    "data.loc[\"2019-10-07\"] \n",
    "\n",
    "# Open                  5.370\n",
    "# High                  5.525\n",
    "# Low                   5.170\n",
    "# Close                 5.390\n",
    "# Volume          4532100.000\n",
    "# Dividends             0.000\n",
    "# Stock Splits          0.000\n",
    "# Name: 2019-10-07 00:00:00, dtype: float64"
   ]
  },
  {
   "cell_type": "code",
   "execution_count": 5,
   "metadata": {},
   "outputs": [
    {
     "data": {
      "text/plain": [
       "Open                  5.32\n",
       "High                  5.36\n",
       "Low                   4.95\n",
       "Close                 5.00\n",
       "Volume          8346200.00\n",
       "Dividends             0.00\n",
       "Stock Splits          0.00\n",
       "Name: 2020-01-02 00:00:00, dtype: float64"
      ]
     },
     "execution_count": 5,
     "metadata": {},
     "output_type": "execute_result"
    }
   ],
   "source": [
    "data.loc['2019-01-02']"
   ]
  },
  {
   "cell_type": "code",
   "execution_count": null,
   "metadata": {},
   "outputs": [],
   "source": []
  }
 ],
 "metadata": {
  "kernelspec": {
   "display_name": "Python 3",
   "language": "python",
   "name": "python3"
  },
  "language_info": {
   "codemirror_mode": {
    "name": "ipython",
    "version": 3
   },
   "file_extension": ".py",
   "mimetype": "text/x-python",
   "name": "python",
   "nbconvert_exporter": "python",
   "pygments_lexer": "ipython3",
   "version": "3.7.4"
  }
 },
 "nbformat": 4,
 "nbformat_minor": 4
}
