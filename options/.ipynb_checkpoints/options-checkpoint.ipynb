{
 "cells": [
  {
   "cell_type": "code",
   "execution_count": 1,
   "metadata": {},
   "outputs": [],
   "source": [
    "import pandas as pd\n",
    "\n",
    "import numpy as np\n",
    "import matplotlib.pyplot as plt\n",
    "from datetime import datetime, date\n"
   ]
  },
  {
   "cell_type": "code",
   "execution_count": 19,
   "metadata": {},
   "outputs": [
    {
     "data": {
      "text/plain": [
       "[<matplotlib.lines.Line2D at 0x13abd0358>]"
      ]
     },
     "execution_count": 19,
     "metadata": {},
     "output_type": "execute_result"
    },
    {
     "data": {
      "image/png": "[encoded data removed]",
      "text/plain": [
       "<Figure size 1224x144 with 1 Axes>"
      ]
     },
     "metadata": {
      "needs_background": "light"
     },
     "output_type": "display_data"
    }
   ],
   "source": [
    "# p15 4g\n",
    "x = np.arange(5000,6100,100)\n",
    "# y = np.random.randn(len(x))\n",
    "y = [.5, .5, .5, .2, .1, 0, -.1, -.2, -.3, -.4, -.5]\n",
    "plt.figure(figsize=(17,2))\n",
    "plt.plot(x,y, 'g--')\n",
    "plt.plot(x, np.zeros(len(y)))"
   ]
  },
  {
   "cell_type": "code",
   "execution_count": 146,
   "metadata": {},
   "outputs": [
    {
     "name": "stdout",
     "output_type": "stream",
     "text": [
      "[-1.5 -0.5  0.5  1.5  2.5  3.5  4.5  5.5  6.5  7.5  8.5  9.5]\n",
      "[-1.5 -0.5  0.5  1.5  2.5  3.5  4.5  5.5  6.5  7.5  8.5  9.5]\n"
     ]
    }
   ],
   "source": [
    "def t(strike, curr_price):\n",
    "    if strike >= curr_price:\n",
    "        prices = np.arange(curr_price*-1.5, curr_price*10)\n",
    "    else: \n",
    "        prices = np.arange(strike*-1.5, strike*10)\n",
    "    print(prices)\n",
    "    \n",
    "t(1,2)\n",
    "\n",
    "t(2,1)"
   ]
  },
  {
   "cell_type": "code",
   "execution_count": 242,
   "metadata": {},
   "outputs": [],
   "source": [
    "def call_long_pl(price, strike, premium):\n",
    "    if price <= strike:\n",
    "        return - premium\n",
    "    return price - strike - premium\n",
    "\n",
    "def call_long_maxgain():\n",
    "    return np.inf\n",
    "\n",
    "def call_long_maxloss(premium):\n",
    "    return premium\n",
    "\n",
    "def call_short_pl(price, strike, premium):\n",
    "    if price <= strike:\n",
    "        return premium\n",
    "    return strike - price + premium\n",
    "\n",
    "def call_short_maxgain(premium):\n",
    "    return premium\n",
    "\n",
    "def call_short_maxloss():\n",
    "    return np.inf\n",
    "\n",
    "def call_value_at_exp(price, strike, premium):\n",
    "    if price <= strike:\n",
    "        return 0\n",
    "    return price - strike\n",
    "\n",
    "def call_pl(strike, premium, curr_price, cash_multiplier, stl_price=False, plot=False, figsize=(17,2)):\n",
    "    \n",
    "    # basics\n",
    "    breakeven = strike + premium\n",
    "    basis = breakeven - strike\n",
    "    absbasis = np.abs(basis)\n",
    "    delta = (curr_price-strike)/strike\n",
    "    delta_beven = (curr_price-breakeven)/breakeven\n",
    "    cash_value = premium * cash_multiplier\n",
    "    long_profit = None\n",
    "    short_profit = None\n",
    "    \n",
    "    if stl_price is not False:\n",
    "        result = stl_price - strike - premium\n",
    "        long_profit = result * cash_multiplier\n",
    "        short_profit = -result * cash_multiplier\n",
    "        \n",
    "    # x ticks of appropriate size - I take delta as basis to make plot visually easier\n",
    "    if curr_price <= strike:\n",
    "        prices = np.arange(curr_price-(absbasis*.5), \n",
    "                           breakeven+(absbasis*.5), \n",
    "                           absbasis*.05)\n",
    "    else: \n",
    "        prices = np.arange(strike-(absbasis*1.5), \n",
    "                           breakeven+(absbasis*1.5), \n",
    "                           absbasis*.1)\n",
    "        \n",
    "        \n",
    "    long = [(price, \n",
    "             call_long_pl(price, strike, premium), \n",
    "             call_value_at_exp(price, strike, premium),\n",
    "             call_long_maxgain(),\n",
    "            call_long_maxloss(premium)) for price in prices]\n",
    "    short = [(price, \n",
    "              call_short_pl(price, strike, premium),\n",
    "             call_value_at_exp(price, strike, premium),\n",
    "             call_short_maxgain(premium),\n",
    "             call_short_maxloss()) for price in prices]\n",
    "    \n",
    "    \n",
    "    if plot == True:\n",
    "        plt.figure(figsize=figsize)\n",
    "        short_pls = [pl for (price, pl, val, maxgain, maxloss) in short]\n",
    "        long_pls = [pl for (price, pl, val, maxgain, maxloss) in long]\n",
    "        plt.plot(prices, short_pls, 'r', linewidth=.75, label='short PL')\n",
    "        plt.plot(prices, long_pls, 'g', linewidth=.75, label='long PL')\n",
    "        plt.plot(prices, np.zeros(len(prices)), 'k--', linewidth=.75)\n",
    "        plt.plot([curr_price]*3, [-premium*1.5,0,premium*1.5], 'y-', linewidth=.75, label='current price')\n",
    "        plt.plot([strike]*3, [-premium*1.5,0,premium*1.5], 'k--', linewidth=.75, label='strike')\n",
    "        plt.legend()\n",
    "        plt.xticks(rotation=45)\n",
    "        locs, labels = plt.xticks(\n",
    "                [breakeven, curr_price, strike],\n",
    "                [f'{breakeven}', f'{curr_price}', f'{strike}'])\n",
    "\n",
    "    if stl_price == False:\n",
    "        return (long, short, breakeven, delta, delta_beven, cash_value)\n",
    "    return (long, short, breakeven, delta, delta_beven, cash_value, long_profit, short_profit)\n",
    "    "
   ]
  },
  {
   "cell_type": "code",
   "execution_count": 244,
   "metadata": {},
   "outputs": [
    {
     "name": "stdout",
     "output_type": "stream",
     "text": [
      "112.5 -112.5\n"
     ]
    },
    {
     "data": {
      "image/png": "[encoded data removed]",
      "text/plain": [
       "<Figure size 720x360 with 1 Axes>"
      ]
     },
     "metadata": {
      "needs_background": "light"
     },
     "output_type": "display_data"
    }
   ],
   "source": [
    "curr = 573.75\n",
    "strike = 575\n",
    "premium = 22.75\n",
    "cash_multiplier = 50\n",
    "stl_price = 600\n",
    "long, short, breakeven, delta, delta_beven, cash_value, long_profit, short_profit = call_pl(strike, \n",
    "                                                                                            premium, \n",
    "                                                                                            curr, \n",
    "                                                                                            cash_multiplier, \n",
    "                                                                                            stl_price, \n",
    "                                                                                            plot=True, \n",
    "                                                                                            figsize=(10,5))\n",
    "print(long_profit, short_profit)\n",
    "# print(long)\n",
    "# print(delta)\n",
    "# print(delta_beven)\n",
    "# print(cash_value)"
   ]
  }
 ],
 "metadata": {
  "kernelspec": {
   "display_name": "Python 3",
   "language": "python",
   "name": "python3"
  },
  "language_info": {
   "codemirror_mode": {
    "name": "ipython",
    "version": 3
   },
   "file_extension": ".py",
   "mimetype": "text/x-python",
   "name": "python",
   "nbconvert_exporter": "python",
   "pygments_lexer": "ipython3",
   "version": "3.6.4"
  }
 },
 "nbformat": 4,
 "nbformat_minor": 4
}
