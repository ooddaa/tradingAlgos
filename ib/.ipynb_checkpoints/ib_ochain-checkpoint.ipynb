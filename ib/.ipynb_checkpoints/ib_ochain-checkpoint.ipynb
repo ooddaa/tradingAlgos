{
 "cells": [
  {
   "cell_type": "code",
   "execution_count": 5,
   "metadata": {},
   "outputs": [],
   "source": [
    "# https://github.com/erdewit/ib_insync/blob/master/notebooks/option_chain.ipynb\n",
    "import ib_insync\n",
    "from ib_insync import *"
   ]
  },
  {
   "cell_type": "code",
   "execution_count": 6,
   "metadata": {
    "collapsed": true
   },
   "outputs": [
    {
     "name": "stdout",
     "output_type": "stream",
     "text": [
      "['util', 'Event', 'SoftDollarTier', 'PriceIncrement', 'Execution', 'CommissionReport', 'BarList', 'BarDataList', 'RealTimeBarList', 'BarData', 'RealTimeBar', 'HistogramData', 'NewsProvider', 'DepthMktDataDescription', 'ScannerSubscription', 'ScanDataList', 'FundamentalRatios', 'ExecutionFilter', 'PnL', 'PnLSingle', 'AccountValue', 'TickData', 'TickByTickAllLast', 'TickByTickBidAsk', 'TickByTickMidPoint', 'HistoricalTick', 'HistoricalTickBidAsk', 'HistoricalTickLast', 'TickAttrib', 'TickAttribBidAsk', 'TickAttribLast', 'MktDepthData', 'DOMLevel', 'TradeLogEntry', 'FamilyCode', 'SmartComponent', 'PortfolioItem', 'Position', 'Fill', 'OptionComputation', 'OptionChain', 'Dividends', 'NewsArticle', 'HistoricalNews', 'NewsTick', 'NewsBulletin', 'ConnectionStats', 'Contract', 'Stock', 'Option', 'Future', 'ContFuture', 'Forex', 'Index', 'CFD', 'Commodity', 'Bond', 'FuturesOption', 'MutualFund', 'Warrant', 'Bag', 'TagValue', 'ComboLeg', 'DeltaNeutralContract', 'ContractDetails', 'ContractDescription', 'ScanData', 'Trade', 'Order', 'OrderStatus', 'OrderState', 'OrderComboLeg', 'LimitOrder', 'MarketOrder', 'StopOrder', 'StopLimitOrder', 'BracketOrder', 'OrderCondition', 'ExecutionCondition', 'MarginCondition', 'TimeCondition', 'PriceCondition', 'PercentChangeCondition', 'VolumeCondition', 'Ticker', 'IB', 'Client', 'RequestError', 'Wrapper', 'FlexReport', 'FlexError', 'IBC', 'IBController', 'Watchdog']\n"
     ]
    }
   ],
   "source": [
    "print(ib_insync.__all__)"
   ]
  },
  {
   "cell_type": "code",
   "execution_count": 7,
   "metadata": {
    "collapsed": true
   },
   "outputs": [
    {
     "data": {
      "text/plain": [
       "['AccountValue',\n",
       " 'Bag',\n",
       " 'BarData',\n",
       " 'BarDataList',\n",
       " 'BarList',\n",
       " 'Bond',\n",
       " 'BracketOrder',\n",
       " 'CFD',\n",
       " 'Client',\n",
       " 'ComboLeg',\n",
       " 'CommissionReport',\n",
       " 'Commodity',\n",
       " 'ConnectionStats',\n",
       " 'ContFuture',\n",
       " 'Contract',\n",
       " 'ContractDescription',\n",
       " 'ContractDetails',\n",
       " 'DOMLevel',\n",
       " 'DeltaNeutralContract',\n",
       " 'DepthMktDataDescription',\n",
       " 'Dividends',\n",
       " 'Event',\n",
       " 'Execution',\n",
       " 'ExecutionCondition',\n",
       " 'ExecutionFilter',\n",
       " 'FamilyCode',\n",
       " 'Fill',\n",
       " 'FlexError',\n",
       " 'FlexReport',\n",
       " 'Forex',\n",
       " 'FundamentalRatios',\n",
       " 'Future',\n",
       " 'FuturesOption',\n",
       " 'HistogramData',\n",
       " 'HistoricalNews',\n",
       " 'HistoricalTick',\n",
       " 'HistoricalTickBidAsk',\n",
       " 'HistoricalTickLast',\n",
       " 'IB',\n",
       " 'IBC',\n",
       " 'IBController',\n",
       " 'Index',\n",
       " 'LimitOrder',\n",
       " 'MarginCondition',\n",
       " 'MarketOrder',\n",
       " 'MktDepthData',\n",
       " 'MutualFund',\n",
       " 'NewsArticle',\n",
       " 'NewsBulletin',\n",
       " 'NewsProvider',\n",
       " 'NewsTick',\n",
       " 'Option',\n",
       " 'OptionChain',\n",
       " 'OptionComputation',\n",
       " 'Order',\n",
       " 'OrderComboLeg',\n",
       " 'OrderCondition',\n",
       " 'OrderState',\n",
       " 'OrderStatus',\n",
       " 'PercentChangeCondition',\n",
       " 'PnL',\n",
       " 'PnLSingle',\n",
       " 'PortfolioItem',\n",
       " 'Position',\n",
       " 'PriceCondition',\n",
       " 'PriceIncrement',\n",
       " 'RealTimeBar',\n",
       " 'RealTimeBarList',\n",
       " 'RequestError',\n",
       " 'ScanData',\n",
       " 'ScanDataList',\n",
       " 'ScannerSubscription',\n",
       " 'SmartComponent',\n",
       " 'SoftDollarTier',\n",
       " 'Stock',\n",
       " 'StopLimitOrder',\n",
       " 'StopOrder',\n",
       " 'TagValue',\n",
       " 'TickAttrib',\n",
       " 'TickAttribBidAsk',\n",
       " 'TickAttribLast',\n",
       " 'TickByTickAllLast',\n",
       " 'TickByTickBidAsk',\n",
       " 'TickByTickMidPoint',\n",
       " 'TickData',\n",
       " 'Ticker',\n",
       " 'TimeCondition',\n",
       " 'Trade',\n",
       " 'TradeLogEntry',\n",
       " 'VolumeCondition',\n",
       " 'Warrant',\n",
       " 'Watchdog',\n",
       " 'Wrapper',\n",
       " 'ib',\n",
       " 'ib_insync',\n",
       " 'util']"
      ]
     },
     "execution_count": 7,
     "metadata": {},
     "output_type": "execute_result"
    }
   ],
   "source": [
    "%who_ls"
   ]
  },
  {
   "cell_type": "code",
   "execution_count": 11,
   "metadata": {},
   "outputs": [],
   "source": [
    "util.startLoop() # an event loop to keep the notebook live updated\n"
   ]
  },
  {
   "cell_type": "code",
   "execution_count": 19,
   "metadata": {},
   "outputs": [],
   "source": [
    "# logging\n",
    "util.logToConsole() # logging INFO level\n",
    "# import logging\n",
    "# util.logToConsole(logging.DEBUG)"
   ]
  },
  {
   "cell_type": "code",
   "execution_count": 24,
   "metadata": {},
   "outputs": [
    {
     "name": "stderr",
     "output_type": "stream",
     "text": [
      "2021-01-25 13:24:11,242 ib_insync.client INFO Connecting to 127.0.0.1:7497 with clientId 0...\n",
      "2021-01-25 13:24:11,244 ib_insync.client INFO Connected\n",
      "2021-01-25 13:24:11,249 ib_insync.client INFO Logged on to server version 152\n",
      "2021-01-25 13:24:11,258 ib_insync.client INFO API connection ready\n",
      "2021-01-25 13:24:11,259 ib_insync.wrapper INFO Warning 2104, reqId -1: Market data farm connection is OK:hfarm\n",
      "2021-01-25 13:24:11,263 ib_insync.wrapper INFO Warning 2104, reqId -1: Market data farm connection is OK:cashfarm\n",
      "2021-01-25 13:24:11,265 ib_insync.wrapper INFO Warning 2104, reqId -1: Market data farm connection is OK:usfuture\n",
      "2021-01-25 13:24:11,267 ib_insync.wrapper INFO Warning 2104, reqId -1: Market data farm connection is OK:jfarm\n",
      "2021-01-25 13:24:11,268 ib_insync.wrapper INFO Warning 2104, reqId -1: Market data farm connection is OK:usfarm.nj\n",
      "2021-01-25 13:24:11,271 ib_insync.wrapper INFO Warning 2104, reqId -1: Market data farm connection is OK:eufarm\n",
      "2021-01-25 13:24:11,274 ib_insync.wrapper INFO Warning 2104, reqId -1: Market data farm connection is OK:usopt\n",
      "2021-01-25 13:24:11,276 ib_insync.wrapper INFO Warning 2104, reqId -1: Market data farm connection is OK:usfarm\n",
      "2021-01-25 13:24:11,280 ib_insync.wrapper INFO Warning 2106, reqId -1: HMDS data farm connection is OK:euhmds\n",
      "2021-01-25 13:24:11,283 ib_insync.wrapper INFO Warning 2106, reqId -1: HMDS data farm connection is OK:ushmds.nj\n",
      "2021-01-25 13:24:11,286 ib_insync.wrapper INFO Warning 2106, reqId -1: HMDS data farm connection is OK:fundfarm\n",
      "2021-01-25 13:24:11,289 ib_insync.wrapper INFO Warning 2106, reqId -1: HMDS data farm connection is OK:ushmds\n",
      "2021-01-25 13:24:11,290 ib_insync.wrapper INFO Warning 2158, reqId -1: Sec-def data farm connection is OK:secdefnj\n",
      "2021-01-25 13:24:11,297 ib_insync.wrapper INFO position: Position(account='DU1610343', contract=Stock(conId=181765086, symbol='APHA', exchange='NASDAQ', currency='USD', localSymbol='APHA', tradingClass='NMS'), position=200.0, avgCost=5.375)\n",
      "2021-01-25 13:24:11,299 ib_insync.wrapper INFO position: Position(account='DU1610344', contract=Stock(conId=181765086, symbol='APHA', exchange='NASDAQ', currency='USD', localSymbol='APHA', tradingClass='NMS'), position=200.0, avgCost=5.375)\n",
      "2021-01-25 13:24:11,302 ib_insync.wrapper INFO position: Position(account='DU1610341', contract=Stock(conId=181765086, symbol='APHA', exchange='NASDAQ', currency='USD', localSymbol='APHA', tradingClass='NMS'), position=200.0, avgCost=5.375)\n",
      "2021-01-25 13:24:11,303 ib_insync.wrapper INFO position: Position(account='DU1610342', contract=Stock(conId=181765086, symbol='APHA', exchange='NASDAQ', currency='USD', localSymbol='APHA', tradingClass='NMS'), position=200.0, avgCost=5.375)\n",
      "2021-01-25 13:24:11,304 ib_insync.wrapper INFO position: Position(account='DU1610345', contract=Stock(conId=265598, symbol='AAPL', exchange='NASDAQ', currency='USD', localSymbol='AAPL', tradingClass='NMS'), position=40.0, avgCost=57.5520975)\n",
      "2021-01-25 13:24:11,305 ib_insync.wrapper INFO position: Position(account='DU1610342', contract=Option(conId=435164849, symbol='WORK', lastTradeDateOrContractMonth='20210319', strike=45.0, right='C', multiplier='100', currency='USD', localSymbol='WORK  210319C00045000', tradingClass='WORK'), position=-1.0, avgCost=113.9117)\n",
      "2021-01-25 13:24:11,306 ib_insync.wrapper INFO position: Position(account='DU1610341', contract=Bond(conId=376385458, symbol='UNP', lastTradeDateOrContractMonth='20390815', currency='USD', localSymbol='IBCID376385458', tradingClass='UNP'), position=10.0, avgCost=1061.95)\n",
      "2021-01-25 13:24:11,307 ib_insync.wrapper INFO position: Position(account='DU1610342', contract=Bond(conId=376385458, symbol='UNP', lastTradeDateOrContractMonth='20390815', currency='USD', localSymbol='IBCID376385458', tradingClass='UNP'), position=9.0, avgCost=1061.9499999999998)\n",
      "2021-01-25 13:24:11,309 ib_insync.wrapper INFO position: Position(account='DU1610343', contract=Bond(conId=376385458, symbol='UNP', lastTradeDateOrContractMonth='20390815', currency='USD', localSymbol='IBCID376385458', tradingClass='UNP'), position=10.0, avgCost=1061.95)\n",
      "2021-01-25 13:24:11,310 ib_insync.wrapper INFO position: Position(account='DU1610344', contract=Bond(conId=376385458, symbol='UNP', lastTradeDateOrContractMonth='20390815', currency='USD', localSymbol='IBCID376385458', tradingClass='UNP'), position=11.0, avgCost=1061.95)\n",
      "2021-01-25 13:24:11,311 ib_insync.wrapper INFO position: Position(account='DU1610345', contract=Stock(conId=4391, symbol='AMD', exchange='NASDAQ', currency='USD', localSymbol='AMD', tradingClass='NMS'), position=20.0, avgCost=28.93446)\n",
      "2021-01-25 13:24:11,312 ib_insync.wrapper INFO position: Position(account='DU1610342', contract=Future(conId=358917044, symbol='GC', lastTradeDateOrContractMonth='20210224', multiplier='100', currency='USD', localSymbol='GCG1', tradingClass='GC'), position=1.0, avgCost=188500.0)\n",
      "2021-01-25 13:24:11,313 ib_insync.wrapper INFO position: Position(account='DU1610345', contract=Stock(conId=424737148, symbol='SWBI', exchange='NASDAQ', currency='USD', localSymbol='SWBI', tradingClass='NMS'), position=666.0, avgCost=16.120726576576576)\n",
      "2021-01-25 13:24:11,314 ib_insync.wrapper INFO position: Position(account='DU1610343', contract=Stock(conId=4391, symbol='AMD', exchange='NASDAQ', currency='USD', localSymbol='AMD', tradingClass='NMS'), position=20.0, avgCost=28.93446)\n",
      "2021-01-25 13:24:11,315 ib_insync.wrapper INFO position: Position(account='DU1610344', contract=Stock(conId=4391, symbol='AMD', exchange='NASDAQ', currency='USD', localSymbol='AMD', tradingClass='NMS'), position=20.0, avgCost=28.93446)\n",
      "2021-01-25 13:24:11,317 ib_insync.wrapper INFO position: Position(account='DU1610341', contract=Stock(conId=4391, symbol='AMD', exchange='NASDAQ', currency='USD', localSymbol='AMD', tradingClass='NMS'), position=20.0, avgCost=28.93446)\n",
      "2021-01-25 13:24:11,319 ib_insync.wrapper INFO position: Position(account='DU1610342', contract=Stock(conId=4391, symbol='AMD', exchange='NASDAQ', currency='USD', localSymbol='AMD', tradingClass='NMS'), position=-80.0, avgCost=94.99778125)\n",
      "2021-01-25 13:24:11,320 ib_insync.wrapper INFO position: Position(account='DU1610345', contract=Bond(conId=376385458, symbol='UNP', lastTradeDateOrContractMonth='20390815', currency='USD', localSymbol='IBCID376385458', tradingClass='UNP'), position=10.0, avgCost=1061.95)\n",
      "2021-01-25 13:24:11,322 ib_insync.wrapper INFO position: Position(account='DU1610345', contract=Stock(conId=88383131, symbol='RR.', exchange='LSE', currency='GBP', localSymbol='RR.', tradingClass='RR.'), position=666.0, avgCost=1.1540225225225225)\n",
      "2021-01-25 13:24:11,324 ib_insync.wrapper INFO position: Position(account='DU1610342', contract=Option(conId=435164808, symbol='WORK', lastTradeDateOrContractMonth='20210319', strike=40.0, right='C', multiplier='100', currency='USD', localSymbol='WORK  210319C00040000', tradingClass='WORK'), position=1.0, avgCost=431.0838)\n",
      "2021-01-25 13:24:11,326 ib_insync.wrapper INFO position: Position(account='DU1610345', contract=Stock(conId=181765086, symbol='APHA', exchange='NASDAQ', currency='USD', localSymbol='APHA', tradingClass='NMS'), position=600.0, avgCost=4.922857166666667)\n",
      "2021-01-25 13:24:15,296 ib_insync.ib ERROR account updates for DF1610340 request timed out\n",
      "2021-01-25 13:24:15,297 ib_insync.ib ERROR account updates for DU1610341 request timed out\n",
      "2021-01-25 13:24:15,298 ib_insync.ib ERROR account updates for DU1610343 request timed out\n",
      "2021-01-25 13:24:15,299 ib_insync.ib ERROR account updates for DU1610344 request timed out\n",
      "2021-01-25 13:24:15,300 ib_insync.ib ERROR account updates for DU1610345 request timed out\n",
      "2021-01-25 13:24:15,310 ib_insync.ib INFO Synchronization complete\n"
     ]
    },
    {
     "name": "stdout",
     "output_type": "stream",
     "text": [
      "Connection OK\n"
     ]
    }
   ],
   "source": [
    "ib = IB()\n",
    "try:\n",
    "    ib.connect('127.0.0.1', 7497, clientId=0)\n",
    "    print('Connection OK')\n",
    "except:\n",
    "    print('ConnectionError')"
   ]
  },
  {
   "cell_type": "code",
   "execution_count": 31,
   "metadata": {},
   "outputs": [
    {
     "name": "stderr",
     "output_type": "stream",
     "text": [
      "2021-01-25 13:44:01,635 ib_insync.ib INFO Disconnecting from 127.0.0.1:7497, 353 B sent in 16 messages, 307 kB received in 5979 messages, session time 1.19 ks.\n",
      "2021-01-25 13:44:01,636 ib_insync.client INFO Disconnecting\n",
      "2021-01-25 13:44:01,641 ib_insync.client INFO Disconnected\n"
     ]
    }
   ],
   "source": [
    "ib.disconnect()"
   ]
  },
  {
   "cell_type": "code",
   "execution_count": 25,
   "metadata": {},
   "outputs": [
    {
     "data": {
      "text/plain": [
       "[Index(conId=416904, symbol='SPX', exchange='CBOE', currency='USD', localSymbol='SPX')]"
      ]
     },
     "execution_count": 25,
     "metadata": {},
     "output_type": "execute_result"
    }
   ],
   "source": [
    "spx = Index('SPX', 'CBOE')\n",
    "ib.qualifyContracts(spx)"
   ]
  },
  {
   "cell_type": "code",
   "execution_count": 26,
   "metadata": {},
   "outputs": [],
   "source": [
    "# market data type\n",
    "# https://interactivebrokers.github.io/tws-api/market_data_type.html\n",
    "# 1 live\n",
    "# 2 frozen\n",
    "# 3 delayed \n",
    "# 4 delayed frozen\n",
    "ib.reqMarketDataType(4)"
   ]
  },
  {
   "cell_type": "code",
   "execution_count": 27,
   "metadata": {},
   "outputs": [
    {
     "name": "stderr",
     "output_type": "stream",
     "text": [
      "2021-01-25 13:24:38,370 ib_insync.wrapper INFO Warning 10167, reqId 9: Requested market data is not subscribed. Displaying delayed market data., contract: Index(conId=416904, symbol='SPX', exchange='CBOE', currency='USD', localSymbol='SPX')\n"
     ]
    },
    {
     "data": {
      "text/plain": [
       "Ticker(contract=Index(conId=416904, symbol='SPX', exchange='CBOE', currency='USD', localSymbol='SPX'), time=datetime.datetime(2021, 1, 25, 13, 24, 38, 687904, tzinfo=datetime.timezone.utc), marketDataType=3, bid=-1.0, bidSize=0, ask=-1.0, askSize=0, last=3841.15, lastSize=1, close=3841.47)"
      ]
     },
     "execution_count": 27,
     "metadata": {},
     "output_type": "execute_result"
    }
   ],
   "source": [
    "[ticker] = ib.reqTickers(spx)\n",
    "ticker"
   ]
  },
  {
   "cell_type": "code",
   "execution_count": 28,
   "metadata": {},
   "outputs": [
    {
     "data": {
      "text/plain": [
       "3841.47"
      ]
     },
     "execution_count": 28,
     "metadata": {},
     "output_type": "execute_result"
    }
   ],
   "source": [
    "spxValue = ticker.marketPrice()\n",
    "spxValue"
   ]
  },
  {
   "cell_type": "code",
   "execution_count": 29,
   "metadata": {},
   "outputs": [
    {
     "data": {
      "text/html": [
       "<div>\n",
       "<style scoped>\n",
       "    .dataframe tbody tr th:only-of-type {\n",
       "        vertical-align: middle;\n",
       "    }\n",
       "\n",
       "    .dataframe tbody tr th {\n",
       "        vertical-align: top;\n",
       "    }\n",
       "\n",
       "    .dataframe thead th {\n",
       "        text-align: right;\n",
       "    }\n",
       "</style>\n",
       "<table border=\"1\" class=\"dataframe\">\n",
       "  <thead>\n",
       "    <tr style=\"text-align: right;\">\n",
       "      <th></th>\n",
       "      <th>exchange</th>\n",
       "      <th>underlyingConId</th>\n",
       "      <th>tradingClass</th>\n",
       "      <th>multiplier</th>\n",
       "      <th>expirations</th>\n",
       "      <th>strikes</th>\n",
       "    </tr>\n",
       "  </thead>\n",
       "  <tbody>\n",
       "    <tr>\n",
       "      <th>0</th>\n",
       "      <td>SMART</td>\n",
       "      <td>416904</td>\n",
       "      <td>SPX</td>\n",
       "      <td>100</td>\n",
       "      <td>[20210218, 20210318, 20210415, 20210520, 20210...</td>\n",
       "      <td>[100.0, 200.0, 300.0, 400.0, 500.0, 600.0, 700...</td>\n",
       "    </tr>\n",
       "    <tr>\n",
       "      <th>1</th>\n",
       "      <td>CBOE</td>\n",
       "      <td>416904</td>\n",
       "      <td>SPXW</td>\n",
       "      <td>100</td>\n",
       "      <td>[20210125, 20210127, 20210129, 20210201, 20210...</td>\n",
       "      <td>[100.0, 200.0, 300.0, 400.0, 500.0, 600.0, 700...</td>\n",
       "    </tr>\n",
       "    <tr>\n",
       "      <th>2</th>\n",
       "      <td>SMART</td>\n",
       "      <td>416904</td>\n",
       "      <td>SPXW</td>\n",
       "      <td>100</td>\n",
       "      <td>[20210125, 20210127, 20210129, 20210201, 20210...</td>\n",
       "      <td>[100.0, 200.0, 300.0, 400.0, 500.0, 600.0, 700...</td>\n",
       "    </tr>\n",
       "    <tr>\n",
       "      <th>3</th>\n",
       "      <td>CBOE</td>\n",
       "      <td>416904</td>\n",
       "      <td>SPX</td>\n",
       "      <td>100</td>\n",
       "      <td>[20210218, 20210318, 20210415, 20210520, 20210...</td>\n",
       "      <td>[100.0, 200.0, 300.0, 400.0, 500.0, 600.0, 700...</td>\n",
       "    </tr>\n",
       "  </tbody>\n",
       "</table>\n",
       "</div>"
      ],
      "text/plain": [
       "  exchange underlyingConId tradingClass multiplier  \\\n",
       "0    SMART          416904          SPX        100   \n",
       "1     CBOE          416904         SPXW        100   \n",
       "2    SMART          416904         SPXW        100   \n",
       "3     CBOE          416904          SPX        100   \n",
       "\n",
       "                                         expirations  \\\n",
       "0  [20210218, 20210318, 20210415, 20210520, 20210...   \n",
       "1  [20210125, 20210127, 20210129, 20210201, 20210...   \n",
       "2  [20210125, 20210127, 20210129, 20210201, 20210...   \n",
       "3  [20210218, 20210318, 20210415, 20210520, 20210...   \n",
       "\n",
       "                                             strikes  \n",
       "0  [100.0, 200.0, 300.0, 400.0, 500.0, 600.0, 700...  \n",
       "1  [100.0, 200.0, 300.0, 400.0, 500.0, 600.0, 700...  \n",
       "2  [100.0, 200.0, 300.0, 400.0, 500.0, 600.0, 700...  \n",
       "3  [100.0, 200.0, 300.0, 400.0, 500.0, 600.0, 700...  "
      ]
     },
     "execution_count": 29,
     "metadata": {},
     "output_type": "execute_result"
    }
   ],
   "source": [
    "chains = ib.reqSecDefOptParams(spx.symbol, '', spx.secType, spx.conId)\n",
    "\n",
    "util.df(chains)"
   ]
  },
  {
   "cell_type": "code",
   "execution_count": 30,
   "metadata": {},
   "outputs": [
    {
     "data": {
      "text/plain": [
       "[OptionChain(exchange='SMART', underlyingConId='416904', tradingClass='SPX', multiplier='100', expirations=['20210218', '20210318', '20210415', '20210520', '20210617', '20210715', '20210916', '20211216', '20220120', '20220317', '20220616', '20221215', '20231214'], strikes=[100.0, 200.0, 300.0, 400.0, 500.0, 600.0, 700.0, 800.0, 900.0, 1000.0, 1100.0, 1150.0, 1200.0, 1225.0, 1250.0, 1275.0, 1300.0, 1325.0, 1350.0, 1375.0, 1400.0, 1425.0, 1450.0, 1475.0, 1500.0, 1525.0, 1550.0, 1575.0, 1600.0, 1625.0, 1650.0, 1675.0, 1700.0, 1725.0, 1750.0, 1775.0, 1800.0, 1825.0, 1850.0, 1875.0, 1900.0, 1925.0, 1950.0, 1975.0, 2000.0, 2025.0, 2050.0, 2075.0, 2100.0, 2125.0, 2150.0, 2175.0, 2200.0, 2225.0, 2250.0, 2275.0, 2290.0, 2300.0, 2310.0, 2320.0, 2325.0, 2330.0, 2340.0, 2350.0, 2360.0, 2370.0, 2375.0, 2380.0, 2390.0, 2400.0, 2405.0, 2410.0, 2415.0, 2420.0, 2425.0, 2430.0, 2435.0, 2440.0, 2445.0, 2450.0, 2455.0, 2460.0, 2465.0, 2470.0, 2475.0, 2480.0, 2485.0, 2490.0, 2495.0, 2500.0, 2505.0, 2510.0, 2515.0, 2520.0, 2525.0, 2530.0, 2535.0, 2540.0, 2545.0, 2550.0, 2555.0, 2560.0, 2565.0, 2570.0, 2575.0, 2580.0, 2585.0, 2590.0, 2595.0, 2600.0, 2605.0, 2610.0, 2615.0, 2620.0, 2625.0, 2630.0, 2635.0, 2640.0, 2645.0, 2650.0, 2655.0, 2660.0, 2665.0, 2670.0, 2675.0, 2680.0, 2685.0, 2690.0, 2695.0, 2700.0, 2705.0, 2710.0, 2715.0, 2720.0, 2725.0, 2730.0, 2735.0, 2740.0, 2745.0, 2750.0, 2755.0, 2760.0, 2765.0, 2770.0, 2775.0, 2780.0, 2785.0, 2790.0, 2795.0, 2800.0, 2805.0, 2810.0, 2815.0, 2820.0, 2825.0, 2830.0, 2835.0, 2840.0, 2845.0, 2850.0, 2855.0, 2860.0, 2865.0, 2870.0, 2875.0, 2880.0, 2885.0, 2890.0, 2895.0, 2900.0, 2905.0, 2910.0, 2915.0, 2920.0, 2925.0, 2930.0, 2935.0, 2940.0, 2945.0, 2950.0, 2955.0, 2960.0, 2965.0, 2970.0, 2975.0, 2980.0, 2985.0, 2990.0, 2995.0, 3000.0, 3005.0, 3010.0, 3015.0, 3020.0, 3025.0, 3030.0, 3035.0, 3040.0, 3045.0, 3050.0, 3055.0, 3060.0, 3065.0, 3070.0, 3075.0, 3080.0, 3085.0, 3090.0, 3095.0, 3100.0, 3105.0, 3110.0, 3115.0, 3120.0, 3125.0, 3130.0, 3135.0, 3140.0, 3145.0, 3150.0, 3155.0, 3160.0, 3165.0, 3170.0, 3175.0, 3180.0, 3185.0, 3190.0, 3195.0, 3200.0, 3205.0, 3210.0, 3215.0, 3220.0, 3225.0, 3230.0, 3235.0, 3240.0, 3245.0, 3250.0, 3255.0, 3260.0, 3265.0, 3270.0, 3275.0, 3280.0, 3285.0, 3290.0, 3295.0, 3300.0, 3305.0, 3310.0, 3315.0, 3320.0, 3325.0, 3330.0, 3335.0, 3340.0, 3345.0, 3350.0, 3355.0, 3360.0, 3365.0, 3370.0, 3375.0, 3380.0, 3385.0, 3390.0, 3395.0, 3400.0, 3405.0, 3410.0, 3415.0, 3420.0, 3425.0, 3430.0, 3435.0, 3440.0, 3445.0, 3450.0, 3455.0, 3460.0, 3465.0, 3470.0, 3475.0, 3480.0, 3485.0, 3490.0, 3495.0, 3500.0, 3505.0, 3510.0, 3515.0, 3520.0, 3525.0, 3530.0, 3535.0, 3540.0, 3545.0, 3550.0, 3555.0, 3560.0, 3565.0, 3570.0, 3575.0, 3580.0, 3585.0, 3590.0, 3595.0, 3600.0, 3605.0, 3610.0, 3615.0, 3620.0, 3625.0, 3630.0, 3635.0, 3640.0, 3645.0, 3650.0, 3655.0, 3660.0, 3665.0, 3670.0, 3675.0, 3680.0, 3685.0, 3690.0, 3695.0, 3700.0, 3705.0, 3710.0, 3715.0, 3720.0, 3725.0, 3730.0, 3735.0, 3740.0, 3745.0, 3750.0, 3755.0, 3760.0, 3765.0, 3770.0, 3775.0, 3780.0, 3785.0, 3790.0, 3795.0, 3800.0, 3805.0, 3810.0, 3815.0, 3820.0, 3825.0, 3830.0, 3835.0, 3840.0, 3845.0, 3850.0, 3855.0, 3860.0, 3865.0, 3870.0, 3875.0, 3880.0, 3885.0, 3890.0, 3895.0, 3900.0, 3905.0, 3910.0, 3915.0, 3920.0, 3925.0, 3930.0, 3935.0, 3940.0, 3945.0, 3950.0, 3955.0, 3960.0, 3965.0, 3970.0, 3975.0, 3980.0, 3985.0, 3990.0, 3995.0, 4000.0, 4005.0, 4010.0, 4015.0, 4020.0, 4025.0, 4030.0, 4035.0, 4040.0, 4045.0, 4050.0, 4055.0, 4060.0, 4065.0, 4070.0, 4075.0, 4080.0, 4085.0, 4090.0, 4095.0, 4100.0, 4105.0, 4110.0, 4115.0, 4120.0, 4125.0, 4130.0, 4135.0, 4140.0, 4150.0, 4160.0, 4170.0, 4175.0, 4180.0, 4190.0, 4200.0, 4210.0, 4220.0, 4225.0, 4230.0, 4250.0, 4275.0, 4300.0, 4325.0, 4350.0, 4375.0, 4400.0, 4425.0, 4500.0, 4600.0, 4700.0, 4800.0, 4900.0, 5000.0, 5100.0, 5200.0, 5300.0, 5400.0, 5500.0, 5600.0, 5700.0, 5800.0, 5900.0, 6000.0, 6100.0, 6200.0, 6300.0, 6400.0, 6500.0, 6600.0, 6700.0]),\n",
       " OptionChain(exchange='CBOE', underlyingConId='416904', tradingClass='SPXW', multiplier='100', expirations=['20210125', '20210127', '20210129', '20210201', '20210203', '20210205', '20210208', '20210210', '20210212', '20210216', '20210217', '20210219', '20210222', '20210226', '20210305', '20210312', '20210319', '20210326', '20210331', '20210416', '20210430', '20210521', '20210528', '20210618', '20210630', '20210930', '20211231'], strikes=[100.0, 200.0, 300.0, 400.0, 500.0, 600.0, 700.0, 800.0, 900.0, 1000.0, 1050.0, 1100.0, 1150.0, 1200.0, 1225.0, 1250.0, 1275.0, 1300.0, 1325.0, 1350.0, 1375.0, 1400.0, 1425.0, 1450.0, 1475.0, 1500.0, 1525.0, 1550.0, 1575.0, 1600.0, 1625.0, 1650.0, 1675.0, 1700.0, 1725.0, 1750.0, 1775.0, 1800.0, 1825.0, 1850.0, 1875.0, 1900.0, 1925.0, 1950.0, 1970.0, 1975.0, 1980.0, 1990.0, 2000.0, 2010.0, 2020.0, 2025.0, 2030.0, 2040.0, 2050.0, 2060.0, 2070.0, 2075.0, 2080.0, 2090.0, 2100.0, 2110.0, 2120.0, 2125.0, 2130.0, 2140.0, 2150.0, 2160.0, 2170.0, 2175.0, 2180.0, 2190.0, 2200.0, 2210.0, 2220.0, 2225.0, 2230.0, 2240.0, 2250.0, 2260.0, 2270.0, 2275.0, 2280.0, 2290.0, 2300.0, 2310.0, 2320.0, 2325.0, 2330.0, 2340.0, 2350.0, 2360.0, 2370.0, 2375.0, 2380.0, 2390.0, 2400.0, 2405.0, 2410.0, 2415.0, 2420.0, 2425.0, 2430.0, 2435.0, 2440.0, 2445.0, 2450.0, 2455.0, 2460.0, 2465.0, 2470.0, 2475.0, 2480.0, 2485.0, 2490.0, 2495.0, 2500.0, 2505.0, 2510.0, 2515.0, 2520.0, 2525.0, 2530.0, 2535.0, 2540.0, 2545.0, 2550.0, 2555.0, 2560.0, 2565.0, 2570.0, 2575.0, 2580.0, 2585.0, 2590.0, 2595.0, 2600.0, 2605.0, 2610.0, 2615.0, 2620.0, 2625.0, 2630.0, 2635.0, 2640.0, 2645.0, 2650.0, 2655.0, 2660.0, 2665.0, 2670.0, 2675.0, 2680.0, 2685.0, 2690.0, 2695.0, 2700.0, 2705.0, 2710.0, 2715.0, 2720.0, 2725.0, 2730.0, 2735.0, 2740.0, 2745.0, 2750.0, 2755.0, 2760.0, 2765.0, 2770.0, 2775.0, 2780.0, 2785.0, 2790.0, 2795.0, 2800.0, 2805.0, 2810.0, 2815.0, 2820.0, 2825.0, 2830.0, 2835.0, 2840.0, 2845.0, 2850.0, 2855.0, 2860.0, 2865.0, 2870.0, 2875.0, 2880.0, 2885.0, 2890.0, 2895.0, 2900.0, 2905.0, 2910.0, 2915.0, 2920.0, 2925.0, 2930.0, 2935.0, 2940.0, 2945.0, 2950.0, 2955.0, 2960.0, 2965.0, 2970.0, 2975.0, 2980.0, 2985.0, 2990.0, 2995.0, 3000.0, 3005.0, 3010.0, 3015.0, 3020.0, 3025.0, 3030.0, 3035.0, 3040.0, 3045.0, 3050.0, 3055.0, 3060.0, 3065.0, 3070.0, 3075.0, 3080.0, 3085.0, 3090.0, 3095.0, 3100.0, 3105.0, 3110.0, 3115.0, 3120.0, 3125.0, 3130.0, 3135.0, 3140.0, 3145.0, 3150.0, 3155.0, 3160.0, 3165.0, 3170.0, 3175.0, 3180.0, 3185.0, 3190.0, 3195.0, 3200.0, 3205.0, 3210.0, 3215.0, 3220.0, 3225.0, 3230.0, 3235.0, 3240.0, 3245.0, 3250.0, 3255.0, 3260.0, 3265.0, 3270.0, 3275.0, 3280.0, 3285.0, 3290.0, 3295.0, 3300.0, 3305.0, 3310.0, 3315.0, 3320.0, 3325.0, 3330.0, 3335.0, 3340.0, 3345.0, 3350.0, 3355.0, 3360.0, 3365.0, 3370.0, 3375.0, 3380.0, 3385.0, 3390.0, 3395.0, 3400.0, 3405.0, 3410.0, 3415.0, 3420.0, 3425.0, 3430.0, 3435.0, 3440.0, 3445.0, 3450.0, 3455.0, 3460.0, 3465.0, 3470.0, 3475.0, 3480.0, 3485.0, 3490.0, 3495.0, 3500.0, 3505.0, 3510.0, 3515.0, 3520.0, 3525.0, 3530.0, 3535.0, 3540.0, 3545.0, 3550.0, 3555.0, 3560.0, 3565.0, 3570.0, 3575.0, 3580.0, 3585.0, 3590.0, 3595.0, 3600.0, 3605.0, 3610.0, 3615.0, 3620.0, 3625.0, 3630.0, 3635.0, 3640.0, 3645.0, 3650.0, 3655.0, 3660.0, 3665.0, 3670.0, 3675.0, 3680.0, 3685.0, 3690.0, 3695.0, 3700.0, 3705.0, 3710.0, 3715.0, 3720.0, 3725.0, 3730.0, 3735.0, 3740.0, 3745.0, 3750.0, 3755.0, 3760.0, 3765.0, 3770.0, 3775.0, 3780.0, 3785.0, 3790.0, 3795.0, 3800.0, 3805.0, 3810.0, 3815.0, 3820.0, 3825.0, 3830.0, 3835.0, 3840.0, 3845.0, 3850.0, 3855.0, 3860.0, 3865.0, 3870.0, 3875.0, 3880.0, 3885.0, 3890.0, 3895.0, 3900.0, 3905.0, 3910.0, 3915.0, 3920.0, 3925.0, 3930.0, 3935.0, 3940.0, 3945.0, 3950.0, 3955.0, 3960.0, 3965.0, 3970.0, 3975.0, 3980.0, 3985.0, 3990.0, 3995.0, 4000.0, 4005.0, 4010.0, 4015.0, 4020.0, 4025.0, 4030.0, 4035.0, 4040.0, 4045.0, 4050.0, 4055.0, 4060.0, 4065.0, 4070.0, 4075.0, 4080.0, 4085.0, 4090.0, 4095.0, 4100.0, 4105.0, 4110.0, 4115.0, 4120.0, 4125.0, 4130.0, 4135.0, 4140.0, 4150.0, 4160.0, 4170.0, 4175.0, 4180.0, 4190.0, 4200.0, 4210.0, 4220.0, 4225.0, 4230.0, 4250.0, 4275.0, 4300.0, 4325.0, 4350.0, 4375.0, 4400.0, 4425.0, 4500.0, 4600.0, 4700.0, 4800.0, 4900.0, 5000.0, 5100.0, 5200.0, 5300.0, 5400.0, 5500.0, 5600.0, 5700.0, 5800.0, 5900.0, 6000.0, 6100.0, 6200.0, 6300.0, 6400.0, 6500.0]),\n",
       " OptionChain(exchange='SMART', underlyingConId='416904', tradingClass='SPXW', multiplier='100', expirations=['20210125', '20210127', '20210129', '20210201', '20210203', '20210205', '20210208', '20210210', '20210212', '20210216', '20210217', '20210219', '20210222', '20210226', '20210305', '20210312', '20210319', '20210326', '20210331', '20210416', '20210430', '20210521', '20210528', '20210618', '20210630', '20210930', '20211231'], strikes=[100.0, 200.0, 300.0, 400.0, 500.0, 600.0, 700.0, 800.0, 900.0, 1000.0, 1050.0, 1100.0, 1150.0, 1200.0, 1225.0, 1250.0, 1275.0, 1300.0, 1325.0, 1350.0, 1375.0, 1400.0, 1425.0, 1450.0, 1475.0, 1500.0, 1525.0, 1550.0, 1575.0, 1600.0, 1625.0, 1650.0, 1675.0, 1700.0, 1725.0, 1750.0, 1775.0, 1800.0, 1825.0, 1850.0, 1875.0, 1900.0, 1925.0, 1950.0, 1970.0, 1975.0, 1980.0, 1990.0, 2000.0, 2010.0, 2020.0, 2025.0, 2030.0, 2040.0, 2050.0, 2060.0, 2070.0, 2075.0, 2080.0, 2090.0, 2100.0, 2110.0, 2120.0, 2125.0, 2130.0, 2140.0, 2150.0, 2160.0, 2170.0, 2175.0, 2180.0, 2190.0, 2200.0, 2210.0, 2220.0, 2225.0, 2230.0, 2240.0, 2250.0, 2260.0, 2270.0, 2275.0, 2280.0, 2290.0, 2300.0, 2310.0, 2320.0, 2325.0, 2330.0, 2340.0, 2350.0, 2360.0, 2370.0, 2375.0, 2380.0, 2390.0, 2400.0, 2405.0, 2410.0, 2415.0, 2420.0, 2425.0, 2430.0, 2435.0, 2440.0, 2445.0, 2450.0, 2455.0, 2460.0, 2465.0, 2470.0, 2475.0, 2480.0, 2485.0, 2490.0, 2495.0, 2500.0, 2505.0, 2510.0, 2515.0, 2520.0, 2525.0, 2530.0, 2535.0, 2540.0, 2545.0, 2550.0, 2555.0, 2560.0, 2565.0, 2570.0, 2575.0, 2580.0, 2585.0, 2590.0, 2595.0, 2600.0, 2605.0, 2610.0, 2615.0, 2620.0, 2625.0, 2630.0, 2635.0, 2640.0, 2645.0, 2650.0, 2655.0, 2660.0, 2665.0, 2670.0, 2675.0, 2680.0, 2685.0, 2690.0, 2695.0, 2700.0, 2705.0, 2710.0, 2715.0, 2720.0, 2725.0, 2730.0, 2735.0, 2740.0, 2745.0, 2750.0, 2755.0, 2760.0, 2765.0, 2770.0, 2775.0, 2780.0, 2785.0, 2790.0, 2795.0, 2800.0, 2805.0, 2810.0, 2815.0, 2820.0, 2825.0, 2830.0, 2835.0, 2840.0, 2845.0, 2850.0, 2855.0, 2860.0, 2865.0, 2870.0, 2875.0, 2880.0, 2885.0, 2890.0, 2895.0, 2900.0, 2905.0, 2910.0, 2915.0, 2920.0, 2925.0, 2930.0, 2935.0, 2940.0, 2945.0, 2950.0, 2955.0, 2960.0, 2965.0, 2970.0, 2975.0, 2980.0, 2985.0, 2990.0, 2995.0, 3000.0, 3005.0, 3010.0, 3015.0, 3020.0, 3025.0, 3030.0, 3035.0, 3040.0, 3045.0, 3050.0, 3055.0, 3060.0, 3065.0, 3070.0, 3075.0, 3080.0, 3085.0, 3090.0, 3095.0, 3100.0, 3105.0, 3110.0, 3115.0, 3120.0, 3125.0, 3130.0, 3135.0, 3140.0, 3145.0, 3150.0, 3155.0, 3160.0, 3165.0, 3170.0, 3175.0, 3180.0, 3185.0, 3190.0, 3195.0, 3200.0, 3205.0, 3210.0, 3215.0, 3220.0, 3225.0, 3230.0, 3235.0, 3240.0, 3245.0, 3250.0, 3255.0, 3260.0, 3265.0, 3270.0, 3275.0, 3280.0, 3285.0, 3290.0, 3295.0, 3300.0, 3305.0, 3310.0, 3315.0, 3320.0, 3325.0, 3330.0, 3335.0, 3340.0, 3345.0, 3350.0, 3355.0, 3360.0, 3365.0, 3370.0, 3375.0, 3380.0, 3385.0, 3390.0, 3395.0, 3400.0, 3405.0, 3410.0, 3415.0, 3420.0, 3425.0, 3430.0, 3435.0, 3440.0, 3445.0, 3450.0, 3455.0, 3460.0, 3465.0, 3470.0, 3475.0, 3480.0, 3485.0, 3490.0, 3495.0, 3500.0, 3505.0, 3510.0, 3515.0, 3520.0, 3525.0, 3530.0, 3535.0, 3540.0, 3545.0, 3550.0, 3555.0, 3560.0, 3565.0, 3570.0, 3575.0, 3580.0, 3585.0, 3590.0, 3595.0, 3600.0, 3605.0, 3610.0, 3615.0, 3620.0, 3625.0, 3630.0, 3635.0, 3640.0, 3645.0, 3650.0, 3655.0, 3660.0, 3665.0, 3670.0, 3675.0, 3680.0, 3685.0, 3690.0, 3695.0, 3700.0, 3705.0, 3710.0, 3715.0, 3720.0, 3725.0, 3730.0, 3735.0, 3740.0, 3745.0, 3750.0, 3755.0, 3760.0, 3765.0, 3770.0, 3775.0, 3780.0, 3785.0, 3790.0, 3795.0, 3800.0, 3805.0, 3810.0, 3815.0, 3820.0, 3825.0, 3830.0, 3835.0, 3840.0, 3845.0, 3850.0, 3855.0, 3860.0, 3865.0, 3870.0, 3875.0, 3880.0, 3885.0, 3890.0, 3895.0, 3900.0, 3905.0, 3910.0, 3915.0, 3920.0, 3925.0, 3930.0, 3935.0, 3940.0, 3945.0, 3950.0, 3955.0, 3960.0, 3965.0, 3970.0, 3975.0, 3980.0, 3985.0, 3990.0, 3995.0, 4000.0, 4005.0, 4010.0, 4015.0, 4020.0, 4025.0, 4030.0, 4035.0, 4040.0, 4045.0, 4050.0, 4055.0, 4060.0, 4065.0, 4070.0, 4075.0, 4080.0, 4085.0, 4090.0, 4095.0, 4100.0, 4105.0, 4110.0, 4115.0, 4120.0, 4125.0, 4130.0, 4135.0, 4140.0, 4150.0, 4160.0, 4170.0, 4175.0, 4180.0, 4190.0, 4200.0, 4210.0, 4220.0, 4225.0, 4230.0, 4250.0, 4275.0, 4300.0, 4325.0, 4350.0, 4375.0, 4400.0, 4425.0, 4500.0, 4600.0, 4700.0, 4800.0, 4900.0, 5000.0, 5100.0, 5200.0, 5300.0, 5400.0, 5500.0, 5600.0, 5700.0, 5800.0, 5900.0, 6000.0, 6100.0, 6200.0, 6300.0, 6400.0, 6500.0]),\n",
       " OptionChain(exchange='CBOE', underlyingConId='416904', tradingClass='SPX', multiplier='100', expirations=['20210218', '20210318', '20210415', '20210520', '20210617', '20210715', '20210916', '20211216', '20220120', '20220317', '20220616', '20221215', '20231214'], strikes=[100.0, 200.0, 300.0, 400.0, 500.0, 600.0, 700.0, 800.0, 900.0, 1000.0, 1100.0, 1150.0, 1200.0, 1225.0, 1250.0, 1275.0, 1300.0, 1325.0, 1350.0, 1375.0, 1400.0, 1425.0, 1450.0, 1475.0, 1500.0, 1525.0, 1550.0, 1575.0, 1600.0, 1625.0, 1650.0, 1675.0, 1700.0, 1725.0, 1750.0, 1775.0, 1800.0, 1825.0, 1850.0, 1875.0, 1900.0, 1925.0, 1950.0, 1975.0, 2000.0, 2025.0, 2050.0, 2075.0, 2100.0, 2125.0, 2150.0, 2175.0, 2200.0, 2225.0, 2250.0, 2275.0, 2290.0, 2300.0, 2310.0, 2320.0, 2325.0, 2330.0, 2340.0, 2350.0, 2360.0, 2370.0, 2375.0, 2380.0, 2390.0, 2400.0, 2405.0, 2410.0, 2415.0, 2420.0, 2425.0, 2430.0, 2435.0, 2440.0, 2445.0, 2450.0, 2455.0, 2460.0, 2465.0, 2470.0, 2475.0, 2480.0, 2485.0, 2490.0, 2495.0, 2500.0, 2505.0, 2510.0, 2515.0, 2520.0, 2525.0, 2530.0, 2535.0, 2540.0, 2545.0, 2550.0, 2555.0, 2560.0, 2565.0, 2570.0, 2575.0, 2580.0, 2585.0, 2590.0, 2595.0, 2600.0, 2605.0, 2610.0, 2615.0, 2620.0, 2625.0, 2630.0, 2635.0, 2640.0, 2645.0, 2650.0, 2655.0, 2660.0, 2665.0, 2670.0, 2675.0, 2680.0, 2685.0, 2690.0, 2695.0, 2700.0, 2705.0, 2710.0, 2715.0, 2720.0, 2725.0, 2730.0, 2735.0, 2740.0, 2745.0, 2750.0, 2755.0, 2760.0, 2765.0, 2770.0, 2775.0, 2780.0, 2785.0, 2790.0, 2795.0, 2800.0, 2805.0, 2810.0, 2815.0, 2820.0, 2825.0, 2830.0, 2835.0, 2840.0, 2845.0, 2850.0, 2855.0, 2860.0, 2865.0, 2870.0, 2875.0, 2880.0, 2885.0, 2890.0, 2895.0, 2900.0, 2905.0, 2910.0, 2915.0, 2920.0, 2925.0, 2930.0, 2935.0, 2940.0, 2945.0, 2950.0, 2955.0, 2960.0, 2965.0, 2970.0, 2975.0, 2980.0, 2985.0, 2990.0, 2995.0, 3000.0, 3005.0, 3010.0, 3015.0, 3020.0, 3025.0, 3030.0, 3035.0, 3040.0, 3045.0, 3050.0, 3055.0, 3060.0, 3065.0, 3070.0, 3075.0, 3080.0, 3085.0, 3090.0, 3095.0, 3100.0, 3105.0, 3110.0, 3115.0, 3120.0, 3125.0, 3130.0, 3135.0, 3140.0, 3145.0, 3150.0, 3155.0, 3160.0, 3165.0, 3170.0, 3175.0, 3180.0, 3185.0, 3190.0, 3195.0, 3200.0, 3205.0, 3210.0, 3215.0, 3220.0, 3225.0, 3230.0, 3235.0, 3240.0, 3245.0, 3250.0, 3255.0, 3260.0, 3265.0, 3270.0, 3275.0, 3280.0, 3285.0, 3290.0, 3295.0, 3300.0, 3305.0, 3310.0, 3315.0, 3320.0, 3325.0, 3330.0, 3335.0, 3340.0, 3345.0, 3350.0, 3355.0, 3360.0, 3365.0, 3370.0, 3375.0, 3380.0, 3385.0, 3390.0, 3395.0, 3400.0, 3405.0, 3410.0, 3415.0, 3420.0, 3425.0, 3430.0, 3435.0, 3440.0, 3445.0, 3450.0, 3455.0, 3460.0, 3465.0, 3470.0, 3475.0, 3480.0, 3485.0, 3490.0, 3495.0, 3500.0, 3505.0, 3510.0, 3515.0, 3520.0, 3525.0, 3530.0, 3535.0, 3540.0, 3545.0, 3550.0, 3555.0, 3560.0, 3565.0, 3570.0, 3575.0, 3580.0, 3585.0, 3590.0, 3595.0, 3600.0, 3605.0, 3610.0, 3615.0, 3620.0, 3625.0, 3630.0, 3635.0, 3640.0, 3645.0, 3650.0, 3655.0, 3660.0, 3665.0, 3670.0, 3675.0, 3680.0, 3685.0, 3690.0, 3695.0, 3700.0, 3705.0, 3710.0, 3715.0, 3720.0, 3725.0, 3730.0, 3735.0, 3740.0, 3745.0, 3750.0, 3755.0, 3760.0, 3765.0, 3770.0, 3775.0, 3780.0, 3785.0, 3790.0, 3795.0, 3800.0, 3805.0, 3810.0, 3815.0, 3820.0, 3825.0, 3830.0, 3835.0, 3840.0, 3845.0, 3850.0, 3855.0, 3860.0, 3865.0, 3870.0, 3875.0, 3880.0, 3885.0, 3890.0, 3895.0, 3900.0, 3905.0, 3910.0, 3915.0, 3920.0, 3925.0, 3930.0, 3935.0, 3940.0, 3945.0, 3950.0, 3955.0, 3960.0, 3965.0, 3970.0, 3975.0, 3980.0, 3985.0, 3990.0, 3995.0, 4000.0, 4005.0, 4010.0, 4015.0, 4020.0, 4025.0, 4030.0, 4035.0, 4040.0, 4045.0, 4050.0, 4055.0, 4060.0, 4065.0, 4070.0, 4075.0, 4080.0, 4085.0, 4090.0, 4095.0, 4100.0, 4105.0, 4110.0, 4115.0, 4120.0, 4125.0, 4130.0, 4135.0, 4140.0, 4150.0, 4160.0, 4170.0, 4175.0, 4180.0, 4190.0, 4200.0, 4210.0, 4220.0, 4225.0, 4230.0, 4250.0, 4275.0, 4300.0, 4325.0, 4350.0, 4375.0, 4400.0, 4425.0, 4500.0, 4600.0, 4700.0, 4800.0, 4900.0, 5000.0, 5100.0, 5200.0, 5300.0, 5400.0, 5500.0, 5600.0, 5700.0, 5800.0, 5900.0, 6000.0, 6100.0, 6200.0, 6300.0, 6400.0, 6500.0, 6600.0, 6700.0])]"
      ]
     },
     "execution_count": 30,
     "metadata": {},
     "output_type": "execute_result"
    }
   ],
   "source": [
    "chains"
   ]
  }
 ],
 "metadata": {
  "kernelspec": {
   "display_name": "Python 3",
   "language": "python",
   "name": "python3"
  },
  "language_info": {
   "codemirror_mode": {
    "name": "ipython",
    "version": 3
   },
   "file_extension": ".py",
   "mimetype": "text/x-python",
   "name": "python",
   "nbconvert_exporter": "python",
   "pygments_lexer": "ipython3",
   "version": "3.6.4"
  }
 },
 "nbformat": 4,
 "nbformat_minor": 4
}
