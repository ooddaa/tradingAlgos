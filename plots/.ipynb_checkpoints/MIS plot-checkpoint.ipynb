{
 "cells": [
  {
   "cell_type": "code",
   "execution_count": 1,
   "metadata": {},
   "outputs": [],
   "source": [
    "import pandas as pd\n",
    "\n",
    "import numpy as np\n",
    "import matplotlib.pyplot as plt\n",
    "from datetime import datetime, date, timedelta"
   ]
  },
  {
   "cell_type": "code",
   "execution_count": 12,
   "metadata": {},
   "outputs": [],
   "source": [
    "%run ../interesting_options.py\n",
    "%run my_3dbar_plotter.py"
   ]
  },
  {
   "cell_type": "code",
   "execution_count": 13,
   "metadata": {},
   "outputs": [
    {
     "data": {
      "text/plain": [
       "['add_z_score',\n",
       " 'calculate_horizon_date',\n",
       " 'calls1',\n",
       " 'calls2',\n",
       " 'calls3',\n",
       " 'calls4',\n",
       " 'date',\n",
       " 'datetime',\n",
       " 'datetime_valid',\n",
       " 'df_combiner',\n",
       " 'df_to_3Dbars',\n",
       " 'filter_by_date',\n",
       " 'filter_by_z_score',\n",
       " 'interesting_options',\n",
       " 'max_interest_by',\n",
       " 'my_3dbar_plotter',\n",
       " 'np',\n",
       " 'o_chains_to_3d_df',\n",
       " 'parse_contractSymbol',\n",
       " 'pd',\n",
       " 'plotter',\n",
       " 'plt',\n",
       " 'timedelta']"
      ]
     },
     "execution_count": 13,
     "metadata": {},
     "output_type": "execute_result"
    }
   ],
   "source": [
    "%who_ls"
   ]
  },
  {
   "cell_type": "code",
   "execution_count": 6,
   "metadata": {},
   "outputs": [
    {
     "name": "stdout",
     "output_type": "stream",
     "text": [
      "calls1 (436, 20)\n",
      "calls2 (387, 20)\n",
      "calls3 (391, 20)\n"
     ]
    }
   ],
   "source": [
    "# load calls option chains\n",
    "calls1, calls2, calls3 = (\n",
    "    pd.read_csv('D:\\\\code\\\\test\\\\csv\\\\pltr\\\\calls1.csv', index_col=0),\n",
    "    pd.read_csv('D:\\\\code\\\\test\\\\csv\\\\pltr\\\\calls2.csv', index_col=0),\n",
    "    pd.read_csv('D:\\\\code\\\\test\\\\csv\\\\pltr\\\\calls3.csv', index_col=0),\n",
    ")\n",
    "print('calls1', calls1.shape)\n",
    "print('calls2', calls2.shape)\n",
    "print('calls3', calls3.shape)"
   ]
  },
  {
   "cell_type": "code",
   "execution_count": 7,
   "metadata": {},
   "outputs": [
    {
     "name": "stdout",
     "output_type": "stream",
     "text": [
      "calls1 (78, 23)\n",
      "calls2 (81, 23)\n",
      "calls3 (87, 23)\n"
     ]
    }
   ],
   "source": [
    "calls1, calls2, calls3 = (\n",
    "    interesting_options(calls1, time_horizon='6mo'),\n",
    "    interesting_options(calls2, time_horizon='6mo'),\n",
    "    interesting_options(calls3, time_horizon='6mo'),\n",
    ")\n",
    "print('calls1', calls1.shape)\n",
    "print('calls2', calls2.shape)\n",
    "print('calls3', calls3.shape)"
   ]
  },
  {
   "cell_type": "code",
   "execution_count": 37,
   "metadata": {},
   "outputs": [],
   "source": [
    "# my_3dbar_plotter accepts a misdf\n",
    "def o_chains_to_3d_df(o_chains, x='date_strike', y='columns', z='openInterest', colsasdays=True):\n",
    "    \"\"\"\n",
    "    Takes a number of option chains (each == one timeperiod of observation, default = 1 day).\n",
    "    Returns a df where: \n",
    "        x = index (expiration date for MIS, or contract symbol) - x-axis\n",
    "        y = column (observation time period, day1, day2 etc) - y-axis\n",
    "        z = whatever we are looking at (open interest for MIS) - z-axis\n",
    "        \n",
    "    By default we count number of o_chains and create colums for each o_chain: colsasdays=True\n",
    "    \"\"\"\n",
    "    \n",
    "    # TODO - else y is dodgy\n",
    "    columns = np.arange(0, len(o_chains), 1) if colsasdays is True else y \n",
    "    \n",
    "    # I need to combine all o_chains indexes to make enough room in 3D bar plot\n",
    "    # slice each chain\n",
    "    def slice_chains(chains, x, y, z):\n",
    "        out = []\n",
    "        for i, chain in enumerate(chains):\n",
    "#             print(chain['exp'])\n",
    "            out.append(pd.DataFrame(chain[z].values, columns=[i], index=chain['exp']))\n",
    "        return out\n",
    "   \n",
    "    sliced = slice_chains(o_chains, x, y, z)\n",
    "    # print(sliced) # ok\n",
    "    out_df = df_combiner(sliced)\n",
    "#     print(out_df)\n",
    "#     out_df = pd.DataFrame([], columns=columns, index=index)\n",
    "    \n",
    "    return out_df\n",
    "    \n",
    "# I need to combine columns\n",
    "\n",
    "# df = pd.DataFrame(opin_calls['openInterest'].values, index=opin_calls['date_strike'])\n",
    "# df1 = pd.DataFrame(opin_calls1['openInterest'].values, index=opin_calls1['date_strike'])\n",
    "# df.columns = ['df']\n",
    "# df1.columns = ['df1']\n",
    "# df2 = df.combine_first(df1)"
   ]
  },
  {
   "cell_type": "code",
   "execution_count": null,
   "metadata": {},
   "outputs": [],
   "source": []
  },
  {
   "cell_type": "code",
   "execution_count": 41,
   "metadata": {},
   "outputs": [],
   "source": [
    "# now plot a 3D bar chart\n",
    "# x = expirations\n",
    "# y = days of observation\n",
    "# z = open_interest\n",
    "mis_df = o_chains_to_3d_df([calls1, calls2, calls3])\n",
    "# mis_df.to_csv('D:\\\\code\\\\test\\\\csv\\\\pltr\\\\mis_df.csv') # damn df_combiner botches up\n",
    "# my_3dbar_plotter(mis_df)"
   ]
  },
  {
   "cell_type": "code",
   "execution_count": null,
   "metadata": {},
   "outputs": [],
   "source": []
  },
  {
   "cell_type": "code",
   "execution_count": null,
   "metadata": {},
   "outputs": [],
   "source": []
  },
  {
   "cell_type": "code",
   "execution_count": null,
   "metadata": {},
   "outputs": [],
   "source": []
  }
 ],
 "metadata": {
  "kernelspec": {
   "display_name": "Python 3",
   "language": "python",
   "name": "python3"
  },
  "language_info": {
   "codemirror_mode": {
    "name": "ipython",
    "version": 3
   },
   "file_extension": ".py",
   "mimetype": "text/x-python",
   "name": "python",
   "nbconvert_exporter": "python",
   "pygments_lexer": "ipython3",
   "version": "3.7.4"
  }
 },
 "nbformat": 4,
 "nbformat_minor": 4
}
