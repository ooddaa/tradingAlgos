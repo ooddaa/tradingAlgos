{
 "cells": [
  {
   "cell_type": "code",
   "execution_count": 87,
   "metadata": {},
   "outputs": [],
   "source": [
    "import pandas as pd\n",
    "\n",
    "import numpy as np\n",
    "import matplotlib.pyplot as plt\n",
    "from datetime import datetime, date, timedelta"
   ]
  },
  {
   "cell_type": "code",
   "execution_count": 88,
   "metadata": {},
   "outputs": [],
   "source": [
    "%run ../interesting_options.py\n",
    "# %run -i my_3dbar_plotter.py"
   ]
  },
  {
   "cell_type": "code",
   "execution_count": 92,
   "metadata": {},
   "outputs": [
    {
     "data": {
      "text/plain": [
       "['add_z_score',\n",
       " 'calculate_horizon_date',\n",
       " 'date',\n",
       " 'datetime',\n",
       " 'datetime_valid',\n",
       " 'filter_by_date',\n",
       " 'filter_by_z_score',\n",
       " 'interesting_options',\n",
       " 'max_interest_by',\n",
       " 'np',\n",
       " 'o_chains_to_3d_df',\n",
       " 'parse_contractSymbol',\n",
       " 'pd',\n",
       " 'plt',\n",
       " 'timedelta']"
      ]
     },
     "execution_count": 92,
     "metadata": {},
     "output_type": "execute_result"
    }
   ],
   "source": [
    "%reset_selective -f plotter\n",
    "%who_ls"
   ]
  },
  {
   "cell_type": "code",
   "execution_count": 93,
   "metadata": {},
   "outputs": [
    {
     "name": "stdout",
     "output_type": "stream",
     "text": [
      "calls1 (436, 20)\n",
      "calls2 (387, 20)\n",
      "calls3 (391, 20)\n"
     ]
    }
   ],
   "source": [
    "# load calls option chains\n",
    "calls1, calls2, calls3 = (\n",
    "#     pd.read_csv('D:\\\\code\\\\test\\\\csv\\\\pltr\\\\calls1.csv', index_col=0),\n",
    "#     pd.read_csv('D:\\\\code\\\\test\\\\csv\\\\pltr\\\\calls2.csv', index_col=0),\n",
    "#     pd.read_csv('D:\\\\code\\\\test\\\\csv\\\\pltr\\\\calls3.csv', index_col=0),\n",
    "    pd.read_csv('~/Desktop/code/mamacita/algo2/csv/pltr/calls1.csv', index_col=0),\n",
    "    pd.read_csv('~/Desktop/code/mamacita/algo2/csv/pltr/calls2.csv', index_col=0),\n",
    "    pd.read_csv('~/Desktop/code/mamacita/algo2/csv/pltr/calls3.csv', index_col=0),\n",
    ")\n",
    "print('calls1', calls1.shape)\n",
    "print('calls2', calls2.shape)\n",
    "print('calls3', calls3.shape)"
   ]
  },
  {
   "cell_type": "code",
   "execution_count": 94,
   "metadata": {},
   "outputs": [
    {
     "name": "stdout",
     "output_type": "stream",
     "text": [
      "calls1 (78, 23)\n",
      "calls2 (81, 23)\n",
      "calls3 (87, 23)\n"
     ]
    }
   ],
   "source": [
    "calls1, calls2, calls3 = (\n",
    "    interesting_options(calls1, time_horizon='6mo'),\n",
    "    interesting_options(calls2, time_horizon='6mo'),\n",
    "    interesting_options(calls3, time_horizon='6mo'),\n",
    ")\n",
    "print('calls1', calls1.shape)\n",
    "print('calls2', calls2.shape)\n",
    "print('calls3', calls3.shape)"
   ]
  },
  {
   "cell_type": "code",
   "execution_count": 95,
   "metadata": {},
   "outputs": [],
   "source": [
    "# my_3dbar_plotter accepts a misdf\n",
    "def o_chains_to_3d_df(o_chains, x='date_strike', y='columns', z='openInterest', colsasdays=True):\n",
    "    \"\"\"\n",
    "    Takes a number of option chains (each == one timeperiod of observation, default = 1 day).\n",
    "    Returns a df where: \n",
    "        x = index (expiration date for MIS, or contract symbol) - x-axis\n",
    "        y = column (observation time period, day1, day2 etc) - y-axis\n",
    "        z = whatever we are looking at (open interest for MIS) - z-axis\n",
    "        \n",
    "    By default we count number of o_chains and create colums for each o_chain: colsasdays=True\n",
    "    \"\"\"\n",
    "    \n",
    "    # TODO - else y is dodgy\n",
    "    columns = np.arange(0, len(o_chains), 1) if colsasdays is True else y \n",
    "    \n",
    "    # I need to combine all o_chains indexes to make enough room in 3D bar plot\n",
    "    # slice each chain\n",
    "    def slice_chains(chains, x, y, z):\n",
    "        out = []\n",
    "        for i, chain in enumerate(chains):\n",
    "         #   print(chain['exp']) # omg fuck this!!! introducing duplicates!\n",
    "            new_chain = pd.DataFrame(chain[z].values, columns=[i], index=chain['date_strike'])\n",
    "            out.append(new_chain)\n",
    "        return out\n",
    "   \n",
    "    sliced = slice_chains(o_chains, x, y, z)\n",
    "    out_df = pd.concat(sliced, axis=1)\n",
    "    \n",
    "    return out_df\n",
    "    "
   ]
  },
  {
   "cell_type": "code",
   "execution_count": 96,
   "metadata": {},
   "outputs": [],
   "source": [
    "# now plot a 3D bar chart\n",
    "# x = expirations\n",
    "# y = days of observation\n",
    "# z = open_interest\n",
    "mis_df = o_chains_to_3d_df([calls1, calls2, calls3])\n",
    "# print(mis_df.shape)\n",
    "# mis_df.to_csv('~/Desktop/code/mamacita/algo2/csv/pltr/mis_df2.csv')\n",
    "# mis_df.to_csv('D:\\\\code\\\\test\\\\csv\\\\pltr\\\\mis_df1.csv') # damn df_combiner botches up"
   ]
  },
  {
   "cell_type": "code",
   "execution_count": 108,
   "metadata": {},
   "outputs": [],
   "source": [
    "def df_to_3Dbars(misdf):\n",
    "    # MIS DataFrame is\n",
    "    # rows == days of observations\n",
    "    # cols = expirations\n",
    "    # values = MIS\n",
    "    arr = []\n",
    "\n",
    "    for idx in misdf.index:\n",
    "        for col in misdf.columns:\n",
    "            bar = [idx, col, misdf.loc[idx, col]]\n",
    "            arr.append(bar)\n",
    "\n",
    "    x = []\n",
    "    y = []\n",
    "    z = []\n",
    "\n",
    "    for bar in arr:\n",
    "        idx, col, strike = bar\n",
    "        x.append(idx)\n",
    "        y.append(col)\n",
    "        z.append(strike)\n",
    "\n",
    "    return x, y, z\n",
    "\n",
    "\n",
    "def plotter(x, y, z, width=1, depth=1, ax=False, figsize=False, labels=['x', 'y', 'z']):\n",
    "\n",
    "    # defaults\n",
    "    figsize = (10, 10) if figsize is False else figsize\n",
    "\n",
    "    if ax is False:\n",
    "        fig = plt.figure(figsize=(10, 10))\n",
    "        ax = fig.add_subplot(111, projection='3d')\n",
    "\n",
    "    bottom = np.zeros_like(z)\n",
    "    hight = z\n",
    "\n",
    "    ax.set_xlabel(labels[0])\n",
    "    ax.set_ylabel(labels[1])\n",
    "    ax.set_zlabel(labels[2])\n",
    "    out = ax.bar3d(x, y, bottom, width, depth, hight)\n",
    "    return out\n",
    "\n",
    "\n",
    "def my_3dbar_plotter(misdf, **kwargs):\n",
    "    x, y, z = df_to_3Dbars(misdf)\n",
    "    return plotter(x, y, z, **kwargs)"
   ]
  },
  {
   "cell_type": "code",
   "execution_count": 114,
   "metadata": {},
   "outputs": [
    {
     "data": {
      "text/plain": [
       "<mpl_toolkits.mplot3d.art3d.Poly3DCollection at 0x147f28240>"
      ]
     },
     "execution_count": 114,
     "metadata": {},
     "output_type": "execute_result"
    }
   ],
   "source": [
    "%matplotlib qt \n",
    "df = mis_df.reset_index(drop=True)\n",
    "df = df.fillna(0)\n",
    "# df.head()\n",
    "my_3dbar_plotter(df, depth=1, labels=['date_strike', 'days', 'open_interest'])"
   ]
  },
  {
   "cell_type": "code",
   "execution_count": null,
   "metadata": {},
   "outputs": [],
   "source": []
  },
  {
   "cell_type": "code",
   "execution_count": null,
   "metadata": {},
   "outputs": [],
   "source": []
  }
 ],
 "metadata": {
  "kernelspec": {
   "display_name": "Python 3",
   "language": "python",
   "name": "python3"
  },
  "language_info": {
   "codemirror_mode": {
    "name": "ipython",
    "version": 3
   },
   "file_extension": ".py",
   "mimetype": "text/x-python",
   "name": "python",
   "nbconvert_exporter": "python",
   "pygments_lexer": "ipython3",
   "version": "3.6.4"
  }
 },
 "nbformat": 4,
 "nbformat_minor": 4
}
