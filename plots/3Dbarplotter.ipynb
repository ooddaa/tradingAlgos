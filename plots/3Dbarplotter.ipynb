{
 "cells": [
  {
   "cell_type": "code",
   "execution_count": 1,
   "metadata": {},
   "outputs": [],
   "source": [
    "def prepare_xyz(df):\n",
    "    arr = []\n",
    "\n",
    "    for day in df.index:\n",
    "        for exp in df.columns:\n",
    "            bar = [exp, day, df.loc[day, exp]]\n",
    "            arr.append(bar)\n",
    "    #         print(bar)\n",
    "    x = [] \n",
    "    y = [] \n",
    "    z = []\n",
    "\n",
    "    for bar in arr:\n",
    "        exp, day, strike = bar\n",
    "        x.append(exp)\n",
    "        y.append(day)\n",
    "        z.append(strike)\n",
    "        \n",
    "    return x, y, z\n",
    "\n",
    "def my_bar3d_plotter(ax, x, y, z, width=1, depth=1, labels=['x', 'y', 'z']):\n",
    "    bottom = np.zeros_like(z)\n",
    "    hight = z\n",
    "    ax.set_xlabel(labels[0])\n",
    "    ax.set_ylabel(labels[1])\n",
    "    ax.set_zlabel(labels[2])\n",
    "    out = ax.bar3d(x, y, bottom, width, depth, hight)\n",
    "    return out"
   ]
  },
  {
   "cell_type": "code",
   "execution_count": null,
   "metadata": {},
   "outputs": [],
   "source": [
    "# produce one bar from an option chain by col\n",
    "# I will loop over all_calls with this, \n",
    "def add_one_mis_bar_to_x_axis(o_chain, exp='a', misdf=pd.DataFrame([]),  col='openInterest'):\n",
    "    # MIS DataFrame is \n",
    "    # rows == days of observations\n",
    "    # cols = expirations\n",
    "    # values = MIS\n",
    "    # mis == most interesting strike by openInterest\n",
    "    _misdf = misdf.copy() # !!!!\n",
    "    mis = max_interest_by(o_chain, col=col)\n",
    "    exp, strike = parse_contractSymbol(mis['contractSymbol'], rdate=True), mis['strike']\n",
    "    # print(exp, strike)\n",
    "    _misdf[exp] = [strike]\n",
    "    return _misdf"
   ]
  }
 ],
 "metadata": {
  "kernelspec": {
   "display_name": "Python 3",
   "language": "python",
   "name": "python3"
  },
  "language_info": {
   "codemirror_mode": {
    "name": "ipython",
    "version": 3
   },
   "file_extension": ".py",
   "mimetype": "text/x-python",
   "name": "python",
   "nbconvert_exporter": "python",
   "pygments_lexer": "ipython3",
   "version": "3.6.4"
  }
 },
 "nbformat": 4,
 "nbformat_minor": 4
}
