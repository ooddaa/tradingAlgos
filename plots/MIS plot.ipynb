{
 "cells": [
  {
   "cell_type": "code",
   "execution_count": 1,
   "metadata": {},
   "outputs": [],
   "source": [
    "import pandas as pd\n",
    "\n",
    "import numpy as np\n",
    "import matplotlib.pyplot as plt\n",
    "from datetime import datetime, date, timedelta"
   ]
  },
  {
   "cell_type": "code",
   "execution_count": 14,
   "metadata": {},
   "outputs": [],
   "source": [
    "%run ../interesting_options.py\n",
    "%run -i my_heatmap_plotter.py\n",
    "# %run -i my_3dbar_plotter.py"
   ]
  },
  {
   "cell_type": "code",
   "execution_count": 15,
   "metadata": {},
   "outputs": [
    {
     "data": {
      "text/plain": [
       "['add_z_score',\n",
       " 'calculate_horizon_date',\n",
       " 'calls1',\n",
       " 'calls2',\n",
       " 'calls3',\n",
       " 'calls4',\n",
       " 'calls5',\n",
       " 'date',\n",
       " 'datetime',\n",
       " 'datetime_valid',\n",
       " 'df',\n",
       " 'df_to_3Dbars',\n",
       " 'filter_by_date',\n",
       " 'filter_by_z_score',\n",
       " 'interesting_options',\n",
       " 'max_interest_by',\n",
       " 'mis_df',\n",
       " 'my_3dbar_plotter',\n",
       " 'my_heatmap_plotter',\n",
       " 'np',\n",
       " 'o_chains_to_3d_df',\n",
       " 'parse_contractSymbol',\n",
       " 'pd',\n",
       " 'plotter',\n",
       " 'plt',\n",
       " 'timedelta']"
      ]
     },
     "execution_count": 15,
     "metadata": {},
     "output_type": "execute_result"
    }
   ],
   "source": [
    "# %reset_selective -f plotter\n",
    "%who_ls"
   ]
  },
  {
   "cell_type": "code",
   "execution_count": 33,
   "metadata": {},
   "outputs": [
    {
     "name": "stdout",
     "output_type": "stream",
     "text": [
      "calls1 (436, 20)\n",
      "calls2 (387, 20)\n",
      "calls3 (391, 20)\n",
      "calls4 (389, 20)\n",
      "calls5 (397, 20)\n",
      "calls1 (33, 23)\n",
      "calls2 (32, 23)\n",
      "calls3 (37, 23)\n",
      "calls4 (36, 23)\n",
      "calls5 (47, 23)\n"
     ]
    }
   ],
   "source": [
    "# load calls option chains\n",
    "calls1, calls2, calls3, calls4, calls5 = (\n",
    "    pd.read_csv('~/Desktop/code/mamacita/algo2/csv/pltr/calls1.csv', index_col=0),\n",
    "    pd.read_csv('~/Desktop/code/mamacita/algo2/csv/pltr/calls2.csv', index_col=0),\n",
    "    pd.read_csv('~/Desktop/code/mamacita/algo2/csv/pltr/calls3.csv', index_col=0),\n",
    "    pd.read_csv('~/Desktop/code/mamacita/algo2/csv/pltr/calls4.csv', index_col=0),\n",
    "    pd.read_csv('~/Desktop/code/mamacita/algo2/csv/pltr/calls5.csv', index_col=0)\n",
    ")\n",
    "\n",
    "print('calls1', calls1.shape)\n",
    "print('calls2', calls2.shape)\n",
    "print('calls3', calls3.shape)\n",
    "print('calls4', calls4.shape)\n",
    "print('calls5', calls5.shape)\n",
    "\n",
    "# filter for interesting options\n",
    "calls1, calls2, calls3, calls4, calls5 = (\n",
    "    interesting_options(calls1, time_horizon='max', z_score_let=1, rmold=True),\n",
    "    interesting_options(calls2, time_horizon='max', z_score_let=1, rmold=True),\n",
    "    interesting_options(calls3, time_horizon='max', z_score_let=1, rmold=True),\n",
    "    interesting_options(calls4, time_horizon='max', z_score_let=1, rmold=True),\n",
    "    interesting_options(calls5, time_horizon='max', z_score_let=1, rmold=True),\n",
    "\n",
    ")\n",
    "# calls1.loc[calls1['exp'] < date.today()]\n",
    "print('calls1', calls1.shape)\n",
    "print('calls2', calls2.shape)\n",
    "print('calls3', calls3.shape)\n",
    "print('calls4', calls4.shape)\n",
    "print('calls5', calls5.shape)"
   ]
  },
  {
   "cell_type": "code",
   "execution_count": 5,
   "metadata": {},
   "outputs": [],
   "source": [
    "# my_3dbar_plotter accepts a misdf\n",
    "def o_chains_to_3d_df(o_chains, \n",
    "                      x='date_strike', \n",
    "                      y='columns', \n",
    "                      z='openInterest', \n",
    "                      colsasdays=True\n",
    "                     ):\n",
    "    \"\"\"\n",
    "    Takes a number of option chains (each == one timeperiod of observation, default = 1 day).\n",
    "    Returns a df where: \n",
    "        x = index (expiration date for MIS, or contract symbol) - x-axis\n",
    "        y = column (observation time period, day1, day2 etc) - y-axis\n",
    "        z = whatever we are looking at (open interest for MIS) - z-axis\n",
    "        \n",
    "    By default we count number of o_chains and create colums for each o_chain: colsasdays=True\n",
    "    \"\"\"\n",
    "    \n",
    "    # TODO - else y is dodgy\n",
    "    columns = np.arange(0, len(o_chains), 1) if colsasdays is True else y \n",
    "    \n",
    "    # I need to combine all o_chains indexes to make enough room in 3D bar plot\n",
    "    # slice each chain\n",
    "    def slice_chains(chains, x, y, z):\n",
    "        out = []\n",
    "        for i, chain in enumerate(chains):\n",
    "         #   print(chain['exp']) # omg fuck this!!! introducing duplicates!\n",
    "            new_chain = pd.DataFrame(chain[z].values, columns=[i], index=chain['date_strike'])\n",
    "            out.append(new_chain)\n",
    "        return out\n",
    "   \n",
    "    sliced = slice_chains(o_chains, x, y, z)\n",
    "    out_df = pd.concat(sliced, axis=1)\n",
    "    \n",
    "    return out_df\n",
    "    "
   ]
  },
  {
   "cell_type": "code",
   "execution_count": 6,
   "metadata": {},
   "outputs": [],
   "source": [
    "# now plot a 3D bar chart\n",
    "# x = expirations\n",
    "# y = days of observation\n",
    "# z = open_interest\n",
    "mis_df = o_chains_to_3d_df([calls5, calls4, calls3, calls2, calls1])\n",
    "# print(mis_df.shape)\n",
    "# mis_df.to_csv('~/Desktop/code/mamacita/algo2/csv/pltr/mis_df2.csv')\n",
    "# mis_df.to_csv('D:\\\\code\\\\test\\\\csv\\\\pltr\\\\mis_df1.csv') # damn df_combiner botches up"
   ]
  },
  {
   "cell_type": "code",
   "execution_count": 9,
   "metadata": {},
   "outputs": [
    {
     "data": {
      "text/html": [
       "<div>\n",
       "<style scoped>\n",
       "    .dataframe tbody tr th:only-of-type {\n",
       "        vertical-align: middle;\n",
       "    }\n",
       "\n",
       "    .dataframe tbody tr th {\n",
       "        vertical-align: top;\n",
       "    }\n",
       "\n",
       "    .dataframe thead th {\n",
       "        text-align: right;\n",
       "    }\n",
       "</style>\n",
       "<table border=\"1\" class=\"dataframe\">\n",
       "  <thead>\n",
       "    <tr style=\"text-align: right;\">\n",
       "      <th></th>\n",
       "      <th>0</th>\n",
       "      <th>1</th>\n",
       "      <th>2</th>\n",
       "      <th>3</th>\n",
       "      <th>4</th>\n",
       "    </tr>\n",
       "  </thead>\n",
       "  <tbody>\n",
       "    <tr>\n",
       "      <th>2021-01-29 30.0</th>\n",
       "      <td>23966</td>\n",
       "      <td>25091.0</td>\n",
       "      <td>16341.0</td>\n",
       "      <td>13497.0</td>\n",
       "      <td>NaN</td>\n",
       "    </tr>\n",
       "    <tr>\n",
       "      <th>2021-01-29 40.0</th>\n",
       "      <td>15517</td>\n",
       "      <td>NaN</td>\n",
       "      <td>NaN</td>\n",
       "      <td>NaN</td>\n",
       "      <td>4840</td>\n",
       "    </tr>\n",
       "    <tr>\n",
       "      <th>2021-02-05 30.0</th>\n",
       "      <td>7301</td>\n",
       "      <td>10253.0</td>\n",
       "      <td>8616.0</td>\n",
       "      <td>7827.0</td>\n",
       "      <td>7827</td>\n",
       "    </tr>\n",
       "    <tr>\n",
       "      <th>2021-02-05 36.0</th>\n",
       "      <td>6940</td>\n",
       "      <td>NaN</td>\n",
       "      <td>NaN</td>\n",
       "      <td>NaN</td>\n",
       "      <td>NaN</td>\n",
       "    </tr>\n",
       "    <tr>\n",
       "      <th>2021-02-12 20.0</th>\n",
       "      <td>5124</td>\n",
       "      <td>NaN</td>\n",
       "      <td>NaN</td>\n",
       "      <td>NaN</td>\n",
       "      <td>NaN</td>\n",
       "    </tr>\n",
       "  </tbody>\n",
       "</table>\n",
       "</div>"
      ],
      "text/plain": [
       "                     0        1        2        3     4\n",
       "2021-01-29 30.0  23966  25091.0  16341.0  13497.0   NaN\n",
       "2021-01-29 40.0  15517      NaN      NaN      NaN  4840\n",
       "2021-02-05 30.0   7301  10253.0   8616.0   7827.0  7827\n",
       "2021-02-05 36.0   6940      NaN      NaN      NaN   NaN\n",
       "2021-02-12 20.0   5124      NaN      NaN      NaN   NaN"
      ]
     },
     "execution_count": 9,
     "metadata": {},
     "output_type": "execute_result"
    }
   ],
   "source": [
    "mis_df.head()"
   ]
  },
  {
   "cell_type": "code",
   "execution_count": 10,
   "metadata": {},
   "outputs": [
    {
     "data": {
      "text/plain": [
       "(24, 6)"
      ]
     },
     "execution_count": 10,
     "metadata": {},
     "output_type": "execute_result"
    }
   ],
   "source": [
    "# df = mis_df.reset_index(drop=True)\n",
    "# remove past expirations\n",
    "# df.head()\n",
    "# df = df.loc[:, df['index'] > datetime.today()]\n",
    "df = mis_df.reset_index()\n",
    "df = df.fillna(0)\n",
    "df.shape # (22, 5)\n"
   ]
  },
  {
   "cell_type": "code",
   "execution_count": 12,
   "metadata": {},
   "outputs": [
    {
     "name": "stdout",
     "output_type": "stream",
     "text": [
      "df[index] 24\n",
      "len xticks: 24\n"
     ]
    },
    {
     "data": {
      "text/plain": [
       "<mpl_toolkits.mplot3d.art3d.Poly3DCollection at 0x1486a6128>"
      ]
     },
     "execution_count": 12,
     "metadata": {},
     "output_type": "execute_result"
    }
   ],
   "source": [
    "%matplotlib qt \n",
    "print('df[index]', len(df['index']))\n",
    "my_3dbar_plotter(df, \n",
    "                 depth=1, \n",
    "                 labels=['date_strike', 'days', 'open_interest']\n",
    "                )"
   ]
  },
  {
   "cell_type": "code",
   "execution_count": 19,
   "metadata": {},
   "outputs": [
    {
     "data": {
      "text/html": [
       "<div>\n",
       "<style scoped>\n",
       "    .dataframe tbody tr th:only-of-type {\n",
       "        vertical-align: middle;\n",
       "    }\n",
       "\n",
       "    .dataframe tbody tr th {\n",
       "        vertical-align: top;\n",
       "    }\n",
       "\n",
       "    .dataframe thead th {\n",
       "        text-align: right;\n",
       "    }\n",
       "</style>\n",
       "<table border=\"1\" class=\"dataframe\">\n",
       "  <thead>\n",
       "    <tr style=\"text-align: right;\">\n",
       "      <th></th>\n",
       "      <th>0</th>\n",
       "      <th>1</th>\n",
       "      <th>2</th>\n",
       "      <th>3</th>\n",
       "      <th>4</th>\n",
       "    </tr>\n",
       "  </thead>\n",
       "  <tbody>\n",
       "    <tr>\n",
       "      <th>2021-01-29 30.0</th>\n",
       "      <td>23966</td>\n",
       "      <td>25091.0</td>\n",
       "      <td>16341.0</td>\n",
       "      <td>13497.0</td>\n",
       "      <td>NaN</td>\n",
       "    </tr>\n",
       "    <tr>\n",
       "      <th>2021-01-29 40.0</th>\n",
       "      <td>15517</td>\n",
       "      <td>NaN</td>\n",
       "      <td>NaN</td>\n",
       "      <td>NaN</td>\n",
       "      <td>4840</td>\n",
       "    </tr>\n",
       "    <tr>\n",
       "      <th>2021-02-05 30.0</th>\n",
       "      <td>7301</td>\n",
       "      <td>10253.0</td>\n",
       "      <td>8616.0</td>\n",
       "      <td>7827.0</td>\n",
       "      <td>7827</td>\n",
       "    </tr>\n",
       "    <tr>\n",
       "      <th>2021-02-05 36.0</th>\n",
       "      <td>6940</td>\n",
       "      <td>NaN</td>\n",
       "      <td>NaN</td>\n",
       "      <td>NaN</td>\n",
       "      <td>NaN</td>\n",
       "    </tr>\n",
       "    <tr>\n",
       "      <th>2021-02-12 20.0</th>\n",
       "      <td>5124</td>\n",
       "      <td>NaN</td>\n",
       "      <td>NaN</td>\n",
       "      <td>NaN</td>\n",
       "      <td>NaN</td>\n",
       "    </tr>\n",
       "  </tbody>\n",
       "</table>\n",
       "</div>"
      ],
      "text/plain": [
       "                     0        1        2        3     4\n",
       "2021-01-29 30.0  23966  25091.0  16341.0  13497.0   NaN\n",
       "2021-01-29 40.0  15517      NaN      NaN      NaN  4840\n",
       "2021-02-05 30.0   7301  10253.0   8616.0   7827.0  7827\n",
       "2021-02-05 36.0   6940      NaN      NaN      NaN   NaN\n",
       "2021-02-12 20.0   5124      NaN      NaN      NaN   NaN"
      ]
     },
     "execution_count": 19,
     "metadata": {},
     "output_type": "execute_result"
    }
   ],
   "source": [
    "mis_df.head()"
   ]
  },
  {
   "cell_type": "code",
   "execution_count": 34,
   "metadata": {},
   "outputs": [],
   "source": [
    "# heatmap\n",
    "mic_df = o_chains_to_3d_df([calls1, calls2, calls3, calls4, calls5])\n",
    "mic_df.fillna(0, inplace=True)\n",
    "mic_df.values\n",
    "mic_df.index = ['day'+ d for d in mic_df.index]"
   ]
  },
  {
   "cell_type": "code",
   "execution_count": 35,
   "metadata": {},
   "outputs": [],
   "source": [
    "my_heatmap_plotter(mis_df.columns, mis_df.index, mis_df.values)"
   ]
  }
 ],
 "metadata": {
  "kernelspec": {
   "display_name": "Python 3",
   "language": "python",
   "name": "python3"
  },
  "language_info": {
   "codemirror_mode": {
    "name": "ipython",
    "version": 3
   },
   "file_extension": ".py",
   "mimetype": "text/x-python",
   "name": "python",
   "nbconvert_exporter": "python",
   "pygments_lexer": "ipython3",
   "version": "3.6.4"
  }
 },
 "nbformat": 4,
 "nbformat_minor": 4
}
