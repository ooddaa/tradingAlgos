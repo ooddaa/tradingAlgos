{
 "cells": [
  {
   "cell_type": "code",
   "execution_count": 1,
   "metadata": {},
   "outputs": [],
   "source": [
    "import pandas as pd\n",
    "\n",
    "import numpy as np\n",
    "import matplotlib.pyplot as plt\n",
    "from datetime import datetime, date, timedelta"
   ]
  },
  {
   "cell_type": "code",
   "execution_count": 174,
   "metadata": {},
   "outputs": [],
   "source": [
    "%run ../interesting_options.py\n",
    "# %run -i my_3dbar_plotter.py"
   ]
  },
  {
   "cell_type": "code",
   "execution_count": 3,
   "metadata": {},
   "outputs": [
    {
     "data": {
      "text/plain": [
       "['add_z_score',\n",
       " 'calculate_horizon_date',\n",
       " 'date',\n",
       " 'datetime',\n",
       " 'datetime_valid',\n",
       " 'filter_by_date',\n",
       " 'filter_by_z_score',\n",
       " 'interesting_options',\n",
       " 'max_interest_by',\n",
       " 'np',\n",
       " 'parse_contractSymbol',\n",
       " 'pd',\n",
       " 'plt',\n",
       " 'timedelta']"
      ]
     },
     "execution_count": 3,
     "metadata": {},
     "output_type": "execute_result"
    }
   ],
   "source": [
    "# %reset_selective -f plotter\n",
    "%who_ls"
   ]
  },
  {
   "cell_type": "code",
   "execution_count": 175,
   "metadata": {},
   "outputs": [
    {
     "name": "stdout",
     "output_type": "stream",
     "text": [
      "calls1 (436, 20)\n",
      "calls2 (387, 20)\n",
      "calls3 (391, 20)\n",
      "calls4 (389, 20)\n",
      "calls1 (12, 23)\n",
      "calls2 (11, 23)\n",
      "calls3 (13, 23)\n",
      "calls4 (10, 23)\n"
     ]
    }
   ],
   "source": [
    "# load calls option chains\n",
    "calls1, calls2, calls3, calls4 = (\n",
    "#     pd.read_csv('D:\\\\code\\\\test\\\\csv\\\\pltr\\\\calls1.csv', index_col=0),\n",
    "#     pd.read_csv('D:\\\\code\\\\test\\\\csv\\\\pltr\\\\calls2.csv', index_col=0),\n",
    "#     pd.read_csv('D:\\\\code\\\\test\\\\csv\\\\pltr\\\\calls3.csv', index_col=0),\n",
    "    pd.read_csv('~/Desktop/code/mamacita/algo2/csv/pltr/calls1.csv', index_col=0),\n",
    "    pd.read_csv('~/Desktop/code/mamacita/algo2/csv/pltr/calls2.csv', index_col=0),\n",
    "    pd.read_csv('~/Desktop/code/mamacita/algo2/csv/pltr/calls3.csv', index_col=0),\n",
    "    pd.read_csv('~/Desktop/code/mamacita/algo2/csv/pltr/calls4.csv', index_col=0),\n",
    ")\n",
    "print('calls1', calls1.shape)\n",
    "print('calls2', calls2.shape)\n",
    "print('calls3', calls3.shape)\n",
    "print('calls4', calls4.shape)\n",
    "\n",
    "# filter for interesting options\n",
    "calls1, calls2, calls3, calls4 = (\n",
    "    interesting_options(calls1, time_horizon='3mo', z_score_let=2, rmold=True),\n",
    "    interesting_options(calls2, time_horizon='3mo', z_score_let=2, rmold=True),\n",
    "    interesting_options(calls3, time_horizon='3mo', z_score_let=2, rmold=True),\n",
    "    interesting_options(calls4, time_horizon='3mo', z_score_let=2, rmold=True),\n",
    ")\n",
    "# calls1.loc[calls1['exp'] < date.today()]\n",
    "print('calls1', calls1.shape)\n",
    "print('calls2', calls2.shape)\n",
    "print('calls3', calls3.shape)\n",
    "print('calls4', calls4.shape)"
   ]
  },
  {
   "cell_type": "code",
   "execution_count": 7,
   "metadata": {},
   "outputs": [],
   "source": [
    "# my_3dbar_plotter accepts a misdf\n",
    "def o_chains_to_3d_df(o_chains, \n",
    "                      x='date_strike', \n",
    "                      y='columns', \n",
    "                      z='openInterest', \n",
    "                      colsasdays=True\n",
    "                     ):\n",
    "    \"\"\"\n",
    "    Takes a number of option chains (each == one timeperiod of observation, default = 1 day).\n",
    "    Returns a df where: \n",
    "        x = index (expiration date for MIS, or contract symbol) - x-axis\n",
    "        y = column (observation time period, day1, day2 etc) - y-axis\n",
    "        z = whatever we are looking at (open interest for MIS) - z-axis\n",
    "        \n",
    "    By default we count number of o_chains and create colums for each o_chain: colsasdays=True\n",
    "    \"\"\"\n",
    "    \n",
    "    # TODO - else y is dodgy\n",
    "    columns = np.arange(0, len(o_chains), 1) if colsasdays is True else y \n",
    "    \n",
    "    # I need to combine all o_chains indexes to make enough room in 3D bar plot\n",
    "    # slice each chain\n",
    "    def slice_chains(chains, x, y, z):\n",
    "        out = []\n",
    "        for i, chain in enumerate(chains):\n",
    "         #   print(chain['exp']) # omg fuck this!!! introducing duplicates!\n",
    "            new_chain = pd.DataFrame(chain[z].values, columns=[i], index=chain['date_strike'])\n",
    "            out.append(new_chain)\n",
    "        return out\n",
    "   \n",
    "    sliced = slice_chains(o_chains, x, y, z)\n",
    "    out_df = pd.concat(sliced, axis=1)\n",
    "    \n",
    "    return out_df\n",
    "    "
   ]
  },
  {
   "cell_type": "code",
   "execution_count": 179,
   "metadata": {},
   "outputs": [],
   "source": [
    "# now plot a 3D bar chart\n",
    "# x = expirations\n",
    "# y = days of observation\n",
    "# z = open_interest\n",
    "mis_df = o_chains_to_3d_df([calls4, calls3, calls2, calls1])\n",
    "# print(mis_df.shape)\n",
    "# mis_df.to_csv('~/Desktop/code/mamacita/algo2/csv/pltr/mis_df2.csv')\n",
    "# mis_df.to_csv('D:\\\\code\\\\test\\\\csv\\\\pltr\\\\mis_df1.csv') # damn df_combiner botches up"
   ]
  },
  {
   "cell_type": "code",
   "execution_count": 178,
   "metadata": {},
   "outputs": [],
   "source": [
    "def df_to_3Dbars(misdf):\n",
    "    # MIS DataFrame is\n",
    "    # rows == days of observations\n",
    "    # cols = expirations\n",
    "    # values = MIS\n",
    "    arr = []\n",
    "\n",
    "    for idx in misdf.index:\n",
    "        for col in misdf.columns:\n",
    "            bar = [idx, col, misdf.loc[idx, col]]\n",
    "            arr.append(bar)\n",
    "\n",
    "    x = []\n",
    "    y = []\n",
    "    z = []\n",
    "\n",
    "    for bar in arr:\n",
    "        idx, col, strike = bar\n",
    "        x.append(idx)\n",
    "        y.append(col)\n",
    "        z.append(strike)\n",
    "\n",
    "    return x, y, z\n",
    "\n",
    "\n",
    "def plotter(x, y, z, \n",
    "            width=1, \n",
    "            depth=1, \n",
    "            ax=False, \n",
    "            figsize=False, \n",
    "            labels=['x', 'y', 'z'], \n",
    "            xticks=False, \n",
    "            xticklabels=False\n",
    "           ):\n",
    "\n",
    "    # defaults\n",
    "    figsize = (10, 10) if figsize is False else figsize\n",
    "\n",
    "    if ax is False:\n",
    "        fig = plt.figure(figsize=figsize)\n",
    "        ax = fig.add_subplot(111, projection='3d')\n",
    "\n",
    "    bottom = np.zeros_like(z)\n",
    "    hight = z\n",
    "\n",
    "#     ax.set_xlabel(labels[0])\n",
    "    ax.set_ylabel(labels[1])\n",
    "    ax.set_zlabel(labels[2])\n",
    "    \n",
    "    # set xticks and xticks labels\n",
    "    # https://matplotlib.org/3.1.3/api/_as_gen/matplotlib.axes.Axes.set_xticks.html\n",
    "    # https://stackoverflow.com/questions/14852821/aligning-rotated-xticklabels-with-their-respective-xticks\n",
    "    if xticks is not False:\n",
    "        print('len xticks:', len(xticks))\n",
    "        ax.set_xticks(xticks, \n",
    "                      minor=False\n",
    "                     )\n",
    "    else:\n",
    "        ax.set_xticks(range(0, len(x))) # or default\n",
    "    \n",
    "    if xticklabels is not False:\n",
    "        # https://matplotlib.org/3.3.2/api/_as_gen/matplotlib.axes.Axes.set_xticklabels.html\n",
    "        # print('xticklabels:', xticklabels)\n",
    "        ax.set_xticklabels(xticklabels,\n",
    "                          rotation=45,\n",
    "                          ha='right'\n",
    "                          )\n",
    "    \n",
    "    out = ax.bar3d(x, y, bottom, width, depth, hight)\n",
    "    return out\n",
    "\n",
    "\n",
    "def my_3dbar_plotter(misdf, **kwargs):\n",
    "    x, y, z = df_to_3Dbars(misdf.loc[:, misdf.columns != 'index'])\n",
    "    return plotter(x, y, z, \n",
    "                   xticks=range(0,len(misdf['index'])), \n",
    "                   xticklabels=misdf['index'],\n",
    "                   **kwargs\n",
    "                  )"
   ]
  },
  {
   "cell_type": "code",
   "execution_count": 180,
   "metadata": {},
   "outputs": [
    {
     "data": {
      "text/html": [
       "<div>\n",
       "<style scoped>\n",
       "    .dataframe tbody tr th:only-of-type {\n",
       "        vertical-align: middle;\n",
       "    }\n",
       "\n",
       "    .dataframe tbody tr th {\n",
       "        vertical-align: top;\n",
       "    }\n",
       "\n",
       "    .dataframe thead th {\n",
       "        text-align: right;\n",
       "    }\n",
       "</style>\n",
       "<table border=\"1\" class=\"dataframe\">\n",
       "  <thead>\n",
       "    <tr style=\"text-align: right;\">\n",
       "      <th></th>\n",
       "      <th>index</th>\n",
       "      <th>0</th>\n",
       "      <th>1</th>\n",
       "      <th>2</th>\n",
       "      <th>3</th>\n",
       "    </tr>\n",
       "  </thead>\n",
       "  <tbody>\n",
       "    <tr>\n",
       "      <th>0</th>\n",
       "      <td>2021-01-29 30.0</td>\n",
       "      <td>25091.0</td>\n",
       "      <td>16341.0</td>\n",
       "      <td>13497.0</td>\n",
       "      <td>0</td>\n",
       "    </tr>\n",
       "    <tr>\n",
       "      <th>1</th>\n",
       "      <td>2021-02-05 30.0</td>\n",
       "      <td>10253.0</td>\n",
       "      <td>8616.0</td>\n",
       "      <td>7827.0</td>\n",
       "      <td>7827</td>\n",
       "    </tr>\n",
       "    <tr>\n",
       "      <th>2</th>\n",
       "      <td>2021-02-12 30.0</td>\n",
       "      <td>4200.0</td>\n",
       "      <td>2162.0</td>\n",
       "      <td>2073.0</td>\n",
       "      <td>0</td>\n",
       "    </tr>\n",
       "    <tr>\n",
       "      <th>3</th>\n",
       "      <td>2021-02-19 27.0</td>\n",
       "      <td>36912.0</td>\n",
       "      <td>35470.0</td>\n",
       "      <td>33786.0</td>\n",
       "      <td>0</td>\n",
       "    </tr>\n",
       "    <tr>\n",
       "      <th>4</th>\n",
       "      <td>2021-02-19 30.0</td>\n",
       "      <td>45602.0</td>\n",
       "      <td>41350.0</td>\n",
       "      <td>38639.0</td>\n",
       "      <td>0</td>\n",
       "    </tr>\n",
       "  </tbody>\n",
       "</table>\n",
       "</div>"
      ],
      "text/plain": [
       "             index        0        1        2     3\n",
       "0  2021-01-29 30.0  25091.0  16341.0  13497.0     0\n",
       "1  2021-02-05 30.0  10253.0   8616.0   7827.0  7827\n",
       "2  2021-02-12 30.0   4200.0   2162.0   2073.0     0\n",
       "3  2021-02-19 27.0  36912.0  35470.0  33786.0     0\n",
       "4  2021-02-19 30.0  45602.0  41350.0  38639.0     0"
      ]
     },
     "execution_count": 180,
     "metadata": {},
     "output_type": "execute_result"
    }
   ],
   "source": [
    "df.head()"
   ]
  },
  {
   "cell_type": "code",
   "execution_count": 181,
   "metadata": {},
   "outputs": [
    {
     "data": {
      "text/plain": [
       "(19, 5)"
      ]
     },
     "execution_count": 181,
     "metadata": {},
     "output_type": "execute_result"
    }
   ],
   "source": [
    "# df = mis_df.reset_index(drop=True)\n",
    "# remove past expirations\n",
    "# df.head()\n",
    "# df = df.loc[:, df['index'] > datetime.today()]\n",
    "df = mis_df.reset_index()\n",
    "df = df.fillna(0)\n",
    "df.shape # (22, 5)\n"
   ]
  },
  {
   "cell_type": "code",
   "execution_count": 182,
   "metadata": {},
   "outputs": [
    {
     "name": "stdout",
     "output_type": "stream",
     "text": [
      "df[index] 19\n",
      "len xticks: 19\n"
     ]
    },
    {
     "data": {
      "text/plain": [
       "<mpl_toolkits.mplot3d.art3d.Poly3DCollection at 0x14f51dda0>"
      ]
     },
     "execution_count": 182,
     "metadata": {},
     "output_type": "execute_result"
    }
   ],
   "source": [
    "%matplotlib qt \n",
    "print('df[index]', len(df['index']))\n",
    "my_3dbar_plotter(df, \n",
    "                 depth=1, \n",
    "                 labels=['date_strike', 'days', 'open_interest']\n",
    "                )"
   ]
  },
  {
   "cell_type": "code",
   "execution_count": null,
   "metadata": {},
   "outputs": [],
   "source": []
  }
 ],
 "metadata": {
  "kernelspec": {
   "display_name": "Python 3",
   "language": "python",
   "name": "python3"
  },
  "language_info": {
   "codemirror_mode": {
    "name": "ipython",
    "version": 3
   },
   "file_extension": ".py",
   "mimetype": "text/x-python",
   "name": "python",
   "nbconvert_exporter": "python",
   "pygments_lexer": "ipython3",
   "version": "3.6.4"
  }
 },
 "nbformat": 4,
 "nbformat_minor": 4
}
