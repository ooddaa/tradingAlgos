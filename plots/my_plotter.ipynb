{
 "cells": [
  {
   "cell_type": "code",
   "execution_count": 1,
   "metadata": {},
   "outputs": [],
   "source": [
    "import pandas as pd\n",
    "import numpy as np\n",
    "import matplotlib.pyplot as plt"
   ]
  },
  {
   "cell_type": "code",
   "execution_count": 46,
   "metadata": {},
   "outputs": [],
   "source": [
    "def my_plotter(x,y, style=True, nogrid=False, title='', label=False):\n",
    "    if style is True:\n",
    "        axes = plt.gca()\n",
    "        axes.spines['top'].set_visible(False)\n",
    "        axes.spines['right'].set_visible(False)\n",
    "        axes.spines['left'].set_visible(False)\n",
    "        axes.spines['bottom'].set_color('#DDDDDD')\n",
    "        axes.tick_params(bottom=False, left=False)\n",
    "        axes.set_axisbelow(True)\n",
    "        if nogrid is False:\n",
    "            axes.yaxis.grid(False)\n",
    "            axes.xaxis.grid(False)\n",
    "        else:\n",
    "            axes.yaxis.grid(True, color='#AAAAAA')\n",
    "            axes.xaxis.grid(True, color='#AAAAAA')\n",
    "            \n",
    "        plt.title(title)\n",
    "        \n",
    "        if label is False: \n",
    "            plt.plot(x,y)\n",
    "        else:\n",
    "            print('label is ', label)\n",
    "            plt.legend()\n",
    "            plt.plot(x,y, label=label)\n",
    "            "
   ]
  },
  {
   "cell_type": "code",
   "execution_count": 49,
   "metadata": {},
   "outputs": [
    {
     "name": "stderr",
     "output_type": "stream",
     "text": [
      "No handles with labels found to put in legend.\n"
     ]
    },
    {
     "name": "stdout",
     "output_type": "stream",
     "text": [
      "label is  aaa\n",
      "label is  bbb\n"
     ]
    },
    {
     "data": {
      "image/png": "[encoded data removed]",
      "text/plain": [
       "<Figure size 432x288 with 1 Axes>"
      ]
     },
     "metadata": {
      "needs_background": "light"
     },
     "output_type": "display_data"
    }
   ],
   "source": [
    "x = np.random.randn(100)\n",
    "my_plotter(x+1, x, title='A', label='aaa')\n",
    "my_plotter(x+2, x, label='bbb')"
   ]
  },
  {
   "cell_type": "code",
   "execution_count": null,
   "metadata": {},
   "outputs": [],
   "source": []
  }
 ],
 "metadata": {
  "kernelspec": {
   "display_name": "Python 3",
   "language": "python",
   "name": "python3"
  },
  "language_info": {
   "codemirror_mode": {
    "name": "ipython",
    "version": 3
   },
   "file_extension": ".py",
   "mimetype": "text/x-python",
   "name": "python",
   "nbconvert_exporter": "python",
   "pygments_lexer": "ipython3",
   "version": "3.6.4"
  }
 },
 "nbformat": 4,
 "nbformat_minor": 4
}
